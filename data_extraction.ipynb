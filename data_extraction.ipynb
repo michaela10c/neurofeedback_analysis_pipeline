{
 "cells": [
  {
   "cell_type": "code",
   "execution_count": 50,
   "id": "04b2ca98-d521-4a63-b72a-df69476a75f9",
   "metadata": {},
   "outputs": [],
   "source": [
    "import h5py\n",
    "import numpy as np"
   ]
  },
  {
   "cell_type": "code",
   "execution_count": 6,
   "id": "c1acfc00-db6a-4ef6-97a3-e2dc978493ce",
   "metadata": {},
   "outputs": [],
   "source": [
    "file_path = 'Faller_et_al_2019_PNAS_EEG_Neurofeedback_VR_Flight/S01_F_CL_Sil_50_100.mat'"
   ]
  },
  {
   "cell_type": "code",
   "execution_count": 129,
   "id": "30f50323-5b67-4fa7-bfc0-e9096fb8ab5c",
   "metadata": {},
   "outputs": [],
   "source": [
    "def extract_trials(filepath):\n",
    "    with h5py.File(file_path, 'r') as f:\n",
    "        raw_eeg_data = np.array(f['actualVariable']['EEG_full']['data']).T[:64]\n",
    "        events = f['actualVariable']['EEG_full']['event']\n",
    "        event_labels = []\n",
    "        \n",
    "        for i in range(len(events['type'])):\n",
    "            event_type_ref = events['type'][i][0]\n",
    "            event_latency_ref = events['latency'][i][0]\n",
    "            \n",
    "            event_type = ''.join(chr(x) for x in f[event_type_ref][:].flatten())\n",
    "            event_latency = f[event_latency_ref][()][0]\n",
    "            event_labels.append((event_type, event_latency))\n",
    "    \n",
    "        easy_data_list = []\n",
    "        hard_data_list = []\n",
    "        sampling_frequency = 256\n",
    "        sample_duration = 30\n",
    "        \n",
    "        trial_starts = []\n",
    "        trial_ends = []\n",
    "        \n",
    "        for event, time in event_labels:\n",
    "            if event == \"START-F_CL_Sil_50_100\":\n",
    "                trial_starts.append(time)\n",
    "            elif event == \"boundary\":\n",
    "                trial_ends.append(time)\n",
    "        trial_ends.append(event_labels[-1][1])\n",
    "        \n",
    "        num_trials = len(trial_starts)\n",
    "        for trial_idx in range(num_trials):\n",
    "            start_time = trial_starts[trial_idx]\n",
    "            end_time = trial_ends[trial_idx]\n",
    "            start_sample = int(start_time)\n",
    "            end_sample = int(end_time)\n",
    "            \n",
    "            trial_data = raw_eeg_data[:, start_sample:end_sample]\n",
    "            trial_duration = end_time - start_time\n",
    "            num_samples_in_trial = trial_data.shape[1]\n",
    "            \n",
    "            if trial_idx % 2 == 0:\n",
    "                data_segment = trial_data[:, :sample_duration*sampling_frequency]\n",
    "                easy_data_list.append(data_segment)\n",
    "            else:\n",
    "                data_segment = trial_data[:, -sample_duration*sampling_frequency:]\n",
    "                hard_data_list.append(data_segment)\n",
    "    \n",
    "        easy_data_array = np.array(easy_data_list)  # Shape: (12, 64, 30*256)\n",
    "        hard_data_array = np.array(hard_data_list)  # Shape: (12, 64, 30*256)\n",
    "    return easy_data_array, hard_data_array"
   ]
  },
  {
   "cell_type": "code",
   "execution_count": 131,
   "id": "1092fd40-b220-4a2a-8829-6ccd15219dce",
   "metadata": {},
   "outputs": [
    {
     "name": "stderr",
     "output_type": "stream",
     "text": [
      "/var/folders/1t/bjxpyljd2576zyjrjv5bnjq40000gn/T/ipykernel_20359/1830590696.py:34: DeprecationWarning: Conversion of an array with ndim > 0 to a scalar is deprecated, and will error in future. Ensure you extract a single element from your array before performing this operation. (Deprecated NumPy 1.25.)\n",
      "  start_sample = int(start_time)\n",
      "/var/folders/1t/bjxpyljd2576zyjrjv5bnjq40000gn/T/ipykernel_20359/1830590696.py:35: DeprecationWarning: Conversion of an array with ndim > 0 to a scalar is deprecated, and will error in future. Ensure you extract a single element from your array before performing this operation. (Deprecated NumPy 1.25.)\n",
      "  end_sample = int(end_time)\n"
     ]
    }
   ],
   "source": [
    "e, h = extract_trials(file_path)"
   ]
  },
  {
   "cell_type": "code",
   "execution_count": 145,
   "id": "10fd0579-1a7d-48ee-bfc2-38596eed7c88",
   "metadata": {},
   "outputs": [
    {
     "data": {
      "text/plain": [
       "((12, 64, 7680), (12, 64, 7680))"
      ]
     },
     "execution_count": 145,
     "metadata": {},
     "output_type": "execute_result"
    }
   ],
   "source": [
    "e.shape, h.shape"
   ]
  },
  {
   "cell_type": "code",
   "execution_count": null,
   "id": "e29b8207-9083-47df-82de-b5e0e3853425",
   "metadata": {},
   "outputs": [],
   "source": []
  }
 ],
 "metadata": {
  "kernelspec": {
   "display_name": "Python 3 (ipykernel)",
   "language": "python",
   "name": "python3"
  },
  "language_info": {
   "codemirror_mode": {
    "name": "ipython",
    "version": 3
   },
   "file_extension": ".py",
   "mimetype": "text/x-python",
   "name": "python",
   "nbconvert_exporter": "python",
   "pygments_lexer": "ipython3",
   "version": "3.12.7"
  }
 },
 "nbformat": 4,
 "nbformat_minor": 5
}
