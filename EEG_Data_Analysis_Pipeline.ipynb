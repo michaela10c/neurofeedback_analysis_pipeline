{
 "cells": [
  {
   "cell_type": "code",
   "execution_count": 1,
   "id": "c3606bdf-ef8b-4050-a22b-467d6db79f56",
   "metadata": {},
   "outputs": [],
   "source": [
    "import os\n",
    "import h5py\n",
    "import numpy as np\n",
    "from scipy.signal import butter, filtfilt\n",
    "\n",
    "from sklearn.model_selection import LeaveOneOut\n",
    "from sklearn.discriminant_analysis import LinearDiscriminantAnalysis\n",
    "from sklearn.svm import SVC\n",
    "from sklearn.linear_model import LogisticRegression\n",
    "from sklearn.metrics import accuracy_score\n",
    "\n",
    "import matplotlib.pyplot as plt"
   ]
  },
  {
   "cell_type": "markdown",
   "id": "354e7f87-0c5b-44f5-9957-7ba41bdb89e8",
   "metadata": {},
   "source": [
    "### Define Initial Parameters"
   ]
  },
  {
   "cell_type": "code",
   "execution_count": 4,
   "id": "7476e426",
   "metadata": {},
   "outputs": [],
   "source": [
    "# Specify the folder path relative to the current directory\n",
    "folder_path = \"Faller_et_al_2019_PNAS_EEG_Neurofeedback_VR_Flight\"\n",
    "file_path = os.path.join(folder_path, \"S01_F_CL_Sil_50_100.mat\")\n",
    "\n",
    "# Parameters\n",
    "sampling_rate = 256 # Hz\n",
    "\n",
    "# Define frequency bands\n",
    "frequency_bands = {\n",
    "    \"Delta\": (0.5, 4),\n",
    "    \"Theta\": (4, 8),\n",
    "    \"Alpha\": (8, 12),\n",
    "    \"Beta\": (12, 25),\n",
    "    \"Gamma\": (25, 100)\n",
    "}\n",
    "\n",
    "# Initialize classifiers\n",
    "classifiers = {\n",
    "        \"LDA\": LinearDiscriminantAnalysis(),\n",
    "        \"SVM\": SVC(kernel='linear', random_state=42),\n",
    "        \"LogisticRegression\": LogisticRegression(penalty='l2', solver='liblinear', random_state=42)\n",
    "    }"
   ]
  },
  {
   "cell_type": "markdown",
   "id": "1309fd0a-6c55-4217-af37-9658bac83bc2",
   "metadata": {},
   "source": [
    "### 1. Extract Trials (Epoching)\n",
    "\n",
    "Given a raw data file (within-subject data), extract the 12 easy and 12 hard trials for the subject. \n",
    "\n",
    "In short, extract the first 30 seconds of the easy trials data, and the last 30 seconds of the hard trials data.\n",
    "\n",
    "We should obtain two arrays, one for easy trials and one for hard trials, each with shape `(n_trials=12, n_channels=64, n_features=t_seconds * sampling_rate=30*256)`"
   ]
  },
  {
   "cell_type": "code",
   "execution_count": 7,
   "id": "6f51942b-fa97-4a47-af6d-482925bfb2c5",
   "metadata": {},
   "outputs": [],
   "source": [
    "def extract_trials(filepath, sampling_frequency = 256, sample_duration = 30, downsample_rate = 1):\n",
    "    with h5py.File(filepath, 'r') as f:\n",
    "        raw_eeg_data = np.array(f['actualVariable']['EEG_full']['data']).T[:64]\n",
    "        events = f['actualVariable']['EEG_full']['event']\n",
    "        event_labels = []\n",
    "        \n",
    "        for i in range(len(events['type'])):\n",
    "            event_type_ref = events['type'][i][0]\n",
    "            event_latency_ref = events['latency'][i][0]\n",
    "            \n",
    "            event_type = ''.join(chr(x) for x in f[event_type_ref][:].flatten())\n",
    "            event_latency = f[event_latency_ref][()][0]\n",
    "            event_labels.append((event_type, event_latency))\n",
    "        \n",
    "        easy_data_list = []\n",
    "        hard_data_list = []\n",
    "        \n",
    "        trial_starts = []\n",
    "        trial_ends = []\n",
    "        \n",
    "        for event, time in event_labels:\n",
    "            if event == \"START-F_CL_Sil_50_100\":\n",
    "                trial_starts.append(time)\n",
    "            elif event == \"boundary\":\n",
    "                trial_ends.append(time)\n",
    "        trial_ends.append(event_labels[-1][1])\n",
    "        \n",
    "        num_trials = len(trial_starts)\n",
    "        for trial_idx in range(num_trials):\n",
    "            start_time = trial_starts[trial_idx]\n",
    "            end_time = trial_ends[trial_idx]\n",
    "            start_sample = int(start_time)\n",
    "            end_sample = int(end_time)\n",
    "            \n",
    "            trial_data = raw_eeg_data[:, start_sample:end_sample]\n",
    "            trial_duration = end_time - start_time\n",
    "            num_samples_in_trial = trial_data.shape[1]\n",
    "            \n",
    "            if trial_idx % 2 == 0:\n",
    "                data_segment = trial_data[:, :sample_duration*sampling_frequency]\n",
    "                if np.shape(data_segment)[1] != sample_duration*sampling_frequency:\n",
    "                    print(\"skipped trial\")\n",
    "                    continue\n",
    "                data_segment = data_segment[:, ::downsample_rate]\n",
    "                easy_data_list.append(data_segment)\n",
    "            else:\n",
    "                data_segment = trial_data[:, -sample_duration*sampling_frequency:]\n",
    "                if np.shape(data_segment)[1] != sample_duration*sampling_frequency:\n",
    "                    print(\"skipped trial\")\n",
    "                    continue\n",
    "                data_segment = data_segment[:, ::downsample_rate]\n",
    "                hard_data_list.append(data_segment)\n",
    "        \n",
    "        easy_data_array = np.array(easy_data_list)  # Shape: (n_trials=12, n_channels=64, n_features=t_seconds * sampling_rate=30*256)\n",
    "        hard_data_array = np.array(hard_data_list)  # Shape: (n_trials=12, n_channels=64, n_features=t_seconds * sampling_rate=30*256)\n",
    "    return easy_data_array, hard_data_array"
   ]
  },
  {
   "cell_type": "code",
   "execution_count": 9,
   "id": "ae814d0a-6526-467c-a231-d17bb4f217f9",
   "metadata": {},
   "outputs": [
    {
     "name": "stderr",
     "output_type": "stream",
     "text": [
      "/var/folders/1t/bjxpyljd2576zyjrjv5bnjq40000gn/T/ipykernel_67544/3936134861.py:32: DeprecationWarning: Conversion of an array with ndim > 0 to a scalar is deprecated, and will error in future. Ensure you extract a single element from your array before performing this operation. (Deprecated NumPy 1.25.)\n",
      "  start_sample = int(start_time)\n",
      "/var/folders/1t/bjxpyljd2576zyjrjv5bnjq40000gn/T/ipykernel_67544/3936134861.py:33: DeprecationWarning: Conversion of an array with ndim > 0 to a scalar is deprecated, and will error in future. Ensure you extract a single element from your array before performing this operation. (Deprecated NumPy 1.25.)\n",
      "  end_sample = int(end_time)\n"
     ]
    }
   ],
   "source": [
    "easy_trials, hard_trials = extract_trials(file_path, downsample_rate=5)"
   ]
  },
  {
   "cell_type": "code",
   "execution_count": 10,
   "id": "945ef4d4-e755-409e-b6d8-fb0907f5039d",
   "metadata": {},
   "outputs": [
    {
     "data": {
      "text/plain": [
       "((12, 64, 1536), (12, 64, 1536))"
      ]
     },
     "execution_count": 10,
     "metadata": {},
     "output_type": "execute_result"
    }
   ],
   "source": [
    "easy_trials.shape, hard_trials.shape"
   ]
  },
  {
   "cell_type": "markdown",
   "id": "3fea43b7-d1b2-4bcc-b39f-b7f902db026a",
   "metadata": {},
   "source": [
    "### 2. Extract Features Per Electrode/Channel\n",
    "\n",
    "Extract the **delta (0.5 - 4 Hz), theta (4 - 8 Hz), alpha (8 - 12 Hz), beta (12 - 25 Hz), and gamma (25 - 100 Hz)** frequency bands per channel. \n",
    "\n",
    "Each frequency band is extracted using a **4th-order Butterworth filter**, bandlimited on the specified frequencies. "
   ]
  },
  {
   "cell_type": "code",
   "execution_count": 12,
   "id": "ae218565-be38-47c8-a24a-fb12567356d1",
   "metadata": {},
   "outputs": [
    {
     "name": "stdout",
     "output_type": "stream",
     "text": [
      "Delta Band - Easy trials: (12, 64, 1536), Hard trials: (12, 64, 1536)\n",
      "Theta Band - Easy trials: (12, 64, 1536), Hard trials: (12, 64, 1536)\n",
      "Alpha Band - Easy trials: (12, 64, 1536), Hard trials: (12, 64, 1536)\n",
      "Beta Band - Easy trials: (12, 64, 1536), Hard trials: (12, 64, 1536)\n",
      "Gamma Band - Easy trials: (12, 64, 1536), Hard trials: (12, 64, 1536)\n"
     ]
    }
   ],
   "source": [
    "# Define the bandpass filter\n",
    "def bandpass_filter(data, low_freq, high_freq, sampling_rate):\n",
    "    nyquist = 0.5 * sampling_rate  # Nyquist frequency\n",
    "    low = low_freq / nyquist\n",
    "    high = high_freq / nyquist\n",
    "    b, a = butter(4, Wn=[low, high], btype='band')  # 4th order Butterworth bandpass filter\n",
    "    filtered_data = filtfilt(b, a, data, axis=1)  # Apply the filter along the time axis\n",
    "    return filtered_data\n",
    "\n",
    "# Filter trials for each band\n",
    "def freq_bands(easy_trials, hard_trials, downsample_rate = 1):\n",
    "    \n",
    "    band_data = {}\n",
    "    for band, (low_freq, high_freq) in frequency_bands.items():\n",
    "        easy_filtered = bandpass_filter(easy_trials, low_freq, high_freq, sampling_rate*downsample_rate)\n",
    "        hard_filtered = bandpass_filter(hard_trials, low_freq, high_freq, sampling_rate*downsample_rate)\n",
    "        band_data[band] = {\n",
    "            \"Easy\": easy_filtered,  # Shape: (n_trials, n_channels, n_features)\n",
    "            \"Hard\": hard_filtered   # Shape: (n_trials, n_channels, n_features)\n",
    "        }\n",
    "    return band_data\n",
    "\n",
    "# Output shapes\n",
    "band_data = freq_bands(easy_trials, hard_trials)\n",
    "for band, data in band_data.items():\n",
    "    print(f\"{band} Band - Easy trials: {data['Easy'].shape}, Hard trials: {data['Hard'].shape}\")"
   ]
  },
  {
   "cell_type": "code",
   "execution_count": 13,
   "id": "98886caf-33f6-499f-8f17-42e81851c7b8",
   "metadata": {},
   "outputs": [],
   "source": [
    "# Example: Access Delta band data for Easy trials\n",
    "delta_easy_trials = band_data[\"Delta\"][\"Easy\"]\n",
    "delta_hard_trials = band_data[\"Delta\"][\"Hard\"]"
   ]
  },
  {
   "cell_type": "markdown",
   "id": "fcb94690-c2e2-4864-a84a-b3ec53c9cdf1",
   "metadata": {},
   "source": [
    "### 3. Train Classifiers\n",
    "\n",
    "Prepare data for **all 5 bands together** AND **individually**. Train classifiers on them separately. "
   ]
  },
  {
   "cell_type": "markdown",
   "id": "391d18f9-2394-413a-8261-65d79e16ffcb",
   "metadata": {},
   "source": [
    "#### 3.1 Prepare Data \n",
    "\n",
    "The **labels** correspond to the **difficulty level** of each trial:\n",
    "- `0` (**Easy Trials**): Tasks with lower difficulty (less challenging flight paths)\n",
    "- `1` (**Hard Trials**): Tasks with higher difficulty (more challenging flight paths)\n",
    "\n",
    "EEG data is divided into trials for **Easy** and **Hard** conditions. Each trial contains 64 EEG channels, along with a sequence of sampled EEG data points (7680 samples for a 30-second trial at 256 Hz). \n",
    "\n",
    "The data is processed in two ways:\n",
    "- **All Bands Combined**: Features from all frequency bands are concatenated for each trial to create a comprehensive feature set.\n",
    "- **Individual Bands**: Features from each frequency band are prepared separately for analysis."
   ]
  },
  {
   "cell_type": "code",
   "execution_count": 16,
   "id": "aecaaae2-65df-4d5b-9e2e-c7c2942d1117",
   "metadata": {},
   "outputs": [],
   "source": [
    "# Prepare data for all bands together\n",
    "def prepare_all_bands_data(band_data):\n",
    "    X = []\n",
    "    y = []\n",
    "    for label, condition in enumerate([\"Easy\", \"Hard\"]):  # 0 for Easy, 1 for Hard\n",
    "        trials = [band_data[band][condition] for band in frequency_bands.keys()]\n",
    "        for trial_idx in range(trials[0].shape[0]):  # Iterate over trials\n",
    "            # Concatenate features from all bands\n",
    "            feature_vector = []\n",
    "            for band_trials in trials:\n",
    "                trial = band_trials[trial_idx]  # Shape: (n_channels, n_features)\n",
    "                \n",
    "                # Compute features (mean and std across channels)\n",
    "                mean_features = np.mean(trial, axis=1)  # Mean across time for each channel\n",
    "                std_features = np.std(trial, axis=1)    # Std across time for each channel\n",
    "                band_features = np.concatenate([mean_features, std_features])  # Combine features\n",
    "                feature_vector.extend(band_features)\n",
    "            X.append(feature_vector)\n",
    "            y.append(label)\n",
    "    return np.array(X), np.array(y)\n",
    "\n",
    "# Prepare data for all bands combined\n",
    "X_all_bands, y_all_bands = prepare_all_bands_data(band_data)"
   ]
  },
  {
   "cell_type": "code",
   "execution_count": 17,
   "id": "4fd8f12a-d14b-4454-93f8-fdba0d6d3780",
   "metadata": {},
   "outputs": [],
   "source": [
    "# Prepare data for a single band\n",
    "def prepare_single_band_data(band_data):\n",
    "    # Prepare data for individual bands\n",
    "    X_individual_bands = {}\n",
    "    y_individual_bands = {}    \n",
    "    for band in frequency_bands.keys():\n",
    "        X = []\n",
    "        y = []\n",
    "        for label, condition in enumerate([\"Easy\", \"Hard\"]):  # 0 for Easy, 1 for Hard\n",
    "            trials = band_data[band][condition]\n",
    "            for trial in trials:  # Shape: (n_channels, n_features)\n",
    "                # Compute features (mean and std across channels)\n",
    "                mean_features = np.mean(trial, axis=1)  # Mean across time for each channel\n",
    "                std_features = np.std(trial, axis=1)    # Std across time for each channel\n",
    "                feature_vector = np.concatenate([mean_features, std_features])  # Combine features\n",
    "                X.append(feature_vector)\n",
    "                y.append(label)\n",
    "        X_individual_bands[band] = np.array(X)\n",
    "        y_individual_bands[band] = np.array(y)\n",
    "    return X_individual_bands, y_individual_bands"
   ]
  },
  {
   "cell_type": "code",
   "execution_count": 18,
   "id": "969a8636-4678-481c-bd47-63a1fa19668b",
   "metadata": {},
   "outputs": [
    {
     "name": "stdout",
     "output_type": "stream",
     "text": [
      "All Bands Combined: (24, 640)\n",
      "Delta Band: (24, 128)\n",
      "Theta Band: (24, 128)\n",
      "Alpha Band: (24, 128)\n",
      "Beta Band: (24, 128)\n",
      "Gamma Band: (24, 128)\n"
     ]
    }
   ],
   "source": [
    "# Print shapes for verification\n",
    "print(f\"All Bands Combined: {X_all_bands.shape}\")\n",
    "X_individual_bands, y_individual_bands = prepare_single_band_data(band_data)\n",
    "for band, X in X_individual_bands.items():\n",
    "    print(f\"{band} Band: {X.shape}\")"
   ]
  },
  {
   "cell_type": "code",
   "execution_count": 19,
   "id": "3e171ca9-8e71-411c-b1eb-a2b76a1ac775",
   "metadata": {},
   "outputs": [],
   "source": [
    "# Concatenate all bands data with individual bands' data for evaluation\n",
    "X_datasets = {\"All Bands\": (X_all_bands, y_all_bands)}\n",
    "for band, X in X_individual_bands.items():\n",
    "    X_datasets[band] = (X, y_individual_bands[band])"
   ]
  },
  {
   "cell_type": "markdown",
   "id": "be15309d-eac8-4c01-a4a4-73914d1d434a",
   "metadata": {},
   "source": [
    "#### 3.2 Train & Evaluate Classifiers\n",
    "\n",
    "Train and Evaluate the results trained on:\n",
    "- **Linear Discriminant Analysis (LDA)**\n",
    "- **Support Vector Machines (SVM)**\n",
    "- **Logistic Regression**\n",
    "\n",
    "Use **Leave-One-Out Cross-Validation (LOOCV) accuracy** on the 12 epoched trials for evaluation. \n",
    "\n",
    "Plot the results for **all frequency bands** and **each individual frequency band**. "
   ]
  },
  {
   "cell_type": "code",
   "execution_count": 21,
   "id": "c63692af-1a42-4c37-814c-e11ea231dd00",
   "metadata": {},
   "outputs": [],
   "source": [
    "# Function to train and evaluate a classifier using LOOCV\n",
    "def train_evaluate_classifier(classifier, X, y):\n",
    "    loo = LeaveOneOut()\n",
    "    y_true = []\n",
    "    y_pred = []\n",
    "\n",
    "    for train_index, test_index in loo.split(X):\n",
    "        X_train, X_test = X[train_index], X[test_index]\n",
    "        y_train, y_test = y[train_index], y[test_index]\n",
    "\n",
    "        # Train the classifier\n",
    "        classifier.fit(X_train, y_train)\n",
    "\n",
    "        # Predict on the test set\n",
    "        y_pred.append(classifier.predict(X_test)[0])\n",
    "        y_true.append(y_test[0])\n",
    "\n",
    "    # Compute accuracy\n",
    "    accuracy = accuracy_score(y_true, y_pred)\n",
    "    return accuracy"
   ]
  },
  {
   "cell_type": "code",
   "execution_count": 22,
   "id": "6554aafe-59e1-4f02-8f52-0ab62ce95f33",
   "metadata": {},
   "outputs": [],
   "source": [
    "# Train classifiers for individual bands and all bands\n",
    "def evaluate_classifiers(X_datasets, classifiers):\n",
    "    results = {}\n",
    "    for dataset_name, (X, y) in X_datasets.items():\n",
    "        results[dataset_name] = {}\n",
    "\n",
    "        for clf_name, clf in classifiers.items():\n",
    "            accuracy = train_evaluate_classifier(clf, X, y)\n",
    "            results[dataset_name][clf_name] = accuracy\n",
    "\n",
    "    return results\n",
    "\n",
    "# Evaluate classifiers\n",
    "X_datasets = {\"All Bands\": (X_all_bands, y_all_bands)}  # Add all bands combined dataset\n",
    "for band, X in X_individual_bands.items():\n",
    "    X_datasets[band] = (X, y_individual_bands[band])  # Add individual bands"
   ]
  },
  {
   "cell_type": "code",
   "execution_count": 23,
   "id": "5ea4cf13-fdc8-4cf5-aa46-3297f0fbc885",
   "metadata": {},
   "outputs": [],
   "source": [
    "# Call the function and evaluate classifiers\n",
    "results = evaluate_classifiers(X_datasets, classifiers)"
   ]
  },
  {
   "cell_type": "code",
   "execution_count": 24,
   "id": "5c4263f5-ced5-4508-a77c-c265e737d44c",
   "metadata": {},
   "outputs": [
    {
     "name": "stdout",
     "output_type": "stream",
     "text": [
      "Classifier Performance (LOOCV Accuracy):\n",
      "All Bands:\n",
      "  LDA: 0.79\n",
      "  SVM: 0.92\n",
      "  LogisticRegression: 0.83\n",
      "Delta:\n",
      "  LDA: 0.67\n",
      "  SVM: 0.67\n",
      "  LogisticRegression: 0.71\n",
      "Theta:\n",
      "  LDA: 0.62\n",
      "  SVM: 0.75\n",
      "  LogisticRegression: 0.79\n",
      "Alpha:\n",
      "  LDA: 0.75\n",
      "  SVM: 0.58\n",
      "  LogisticRegression: 0.58\n",
      "Beta:\n",
      "  LDA: 0.50\n",
      "  SVM: 0.71\n",
      "  LogisticRegression: 0.79\n",
      "Gamma:\n",
      "  LDA: 0.75\n",
      "  SVM: 0.83\n",
      "  LogisticRegression: 0.83\n"
     ]
    }
   ],
   "source": [
    "# Print results\n",
    "print(\"Classifier Performance (LOOCV Accuracy):\")\n",
    "for dataset_name, metrics in results.items():\n",
    "    print(f\"{dataset_name}:\")\n",
    "    for clf_name, accuracy in metrics.items():\n",
    "        print(f\"  {clf_name}: {accuracy:.2f}\")"
   ]
  },
  {
   "cell_type": "code",
   "execution_count": 25,
   "id": "962e4c6b-fe85-48f8-954a-2b0ad67cae62",
   "metadata": {},
   "outputs": [
    {
     "data": {
      "image/png": "[encoded data removed]",
      "text/plain": [
       "<Figure size 1000x600 with 1 Axes>"
      ]
     },
     "metadata": {},
     "output_type": "display_data"
    }
   ],
   "source": [
    "# Plot classifier results\n",
    "\n",
    "# Function to plot classifier results\n",
    "def plot_results(results):\n",
    "    datasets = list(results.keys())\n",
    "    classifiers = list(next(iter(results.values())).keys())\n",
    "    \n",
    "    # Prepare data for plotting\n",
    "    accuracies = np.array([[results[dataset][clf] for clf in classifiers] for dataset in datasets])\n",
    "    bar_width = 0.2  # Width of each bar\n",
    "    x = np.arange(len(datasets))  # Position of datasets on x-axis\n",
    "\n",
    "    # Plot bars for each classifier\n",
    "    plt.figure(figsize=(10, 6))\n",
    "    for i, clf in enumerate(classifiers):\n",
    "        plt.bar(x + i * bar_width, accuracies[:, i], width=bar_width, label=clf)\n",
    "\n",
    "    # Add labels, title, and legend\n",
    "    plt.xlabel(\"Datasets\", fontsize=12)\n",
    "    plt.ylabel(\"LOOCV Accuracy\", fontsize=12)\n",
    "    plt.title(\"Classifier Performance Across Datasets\", fontsize=14)\n",
    "    plt.xticks(x + bar_width, datasets, rotation=45, fontsize=10)\n",
    "    plt.ylim(0, 1.1)  # Accuracy ranges from 0 to 1\n",
    "    plt.legend(title=\"Classifiers\", fontsize=10)\n",
    "    plt.tight_layout()\n",
    "    plt.show()\n",
    "\n",
    "# Call the function to plot results\n",
    "plot_results(results)"
   ]
  },
  {
   "cell_type": "markdown",
   "id": "ee4ae14c-d8bf-4f49-8c80-0d131d1e5d54",
   "metadata": {},
   "source": [
    "### 4. Add Additional Preprocessing Techniques\n",
    "\n",
    "e.g., downsampling, ICA, using different filter types, etc. \n",
    "\n",
    "See its effect on the LOOCV accuracies. "
   ]
  },
  {
   "cell_type": "code",
   "execution_count": 84,
   "id": "5d2ce23d-6a30-44c8-9545-94719d5d51cd",
   "metadata": {},
   "outputs": [],
   "source": [
    "# TODO: Linear preprocessing: downsampling, different bandpass filtering"
   ]
  },
  {
   "cell_type": "code",
   "execution_count": 86,
   "id": "3583cddb-a4be-4e28-a077-1ec12a1028fd",
   "metadata": {},
   "outputs": [],
   "source": [
    "# TODO: Different levels of downsampling"
   ]
  },
  {
   "cell_type": "code",
   "execution_count": 88,
   "id": "e8eb37ec-71b0-411e-982b-e7de9430c5c8",
   "metadata": {},
   "outputs": [],
   "source": [
    "# TODO: Different filter types "
   ]
  },
  {
   "cell_type": "code",
   "execution_count": 90,
   "id": "d7a5b753-c330-49bf-8d78-fb5d30007fc5",
   "metadata": {},
   "outputs": [],
   "source": [
    "# TODO: Different feature types"
   ]
  },
  {
   "cell_type": "code",
   "execution_count": 92,
   "id": "f24e17f2-251f-44e7-8a8a-977c9e2b9d54",
   "metadata": {},
   "outputs": [],
   "source": [
    "# TODO: Different feature sets (linear and nonlinear - MFCC features, etc.)"
   ]
  },
  {
   "cell_type": "code",
   "execution_count": 45,
   "id": "b53a32c7-28ae-47b1-8389-71ecaeb215d0",
   "metadata": {},
   "outputs": [],
   "source": [
    "def processAllSubjs(downsample_rate=1):\n",
    "    all_results = {}\n",
    "    sampling_rate = 256\n",
    "    for s in [f\"{i:02}\" for i in range(1, 21)]:\n",
    "        if s in ['04', '07', '13', '14']:\n",
    "            continue\n",
    "        file_path = f'Faller_et_al_2019_PNAS_EEG_Neurofeedback_VR_Flight/S{s}_F_CL_Sil_50_100.mat'\n",
    "        easy_trials, hard_trials = extract_trials(file_path, downsample_rate=downsample_rate)\n",
    "        print(f'Subject {s} epoched')\n",
    "    \n",
    "        band_data = freq_bands(easy_trials, hard_trials, downsample_rate)\n",
    "        \n",
    "        X_all_bands, y_all_bands = prepare_all_bands_data(band_data)\n",
    "        \n",
    "        X_individual_bands, y_individual_bands = prepare_single_band_data(band_data)\n",
    "    \n",
    "        X_datasets = {\"All Bands\": (X_all_bands, y_all_bands)}\n",
    "        for band, X in X_individual_bands.items():\n",
    "            X_datasets[band] = (X, y_individual_bands[band])\n",
    "        \n",
    "        results = evaluate_classifiers(X_datasets, classifiers)\n",
    "        all_results[s] = results\n",
    "        print(f'Subject {s} all bands LDA - {results['All Bands']['LDA']}')\n",
    "    return all_results\n",
    "\n",
    "def getAvgAllSubjs(all_results):\n",
    "    all_results_array = np.zeros((len(all_results), 18))\n",
    "    for i, s in enumerate(all_results):\n",
    "        j = 0\n",
    "        for b in all_results[s]:\n",
    "            for c in all_results[s][b]:\n",
    "                all_results_array[i, j] = all_results[s][b][c]\n",
    "                j += 1\n",
    "    \n",
    "    results_avg = {}\n",
    "    j = 0\n",
    "    for d in all_results['01']:\n",
    "        results_avg[d] = {}\n",
    "        for c in classifiers:\n",
    "            results_avg[d][c] = all_results_array.mean(axis=0)[j]\n",
    "            j += 1\n",
    "    return results_avg"
   ]
  },
  {
   "cell_type": "code",
   "execution_count": 47,
   "id": "2c1aa0b8-0402-49a7-a1a6-510933498b41",
   "metadata": {
    "scrolled": true
   },
   "outputs": [
    {
     "name": "stderr",
     "output_type": "stream",
     "text": [
      "/var/folders/1t/bjxpyljd2576zyjrjv5bnjq40000gn/T/ipykernel_67544/3936134861.py:32: DeprecationWarning: Conversion of an array with ndim > 0 to a scalar is deprecated, and will error in future. Ensure you extract a single element from your array before performing this operation. (Deprecated NumPy 1.25.)\n",
      "  start_sample = int(start_time)\n",
      "/var/folders/1t/bjxpyljd2576zyjrjv5bnjq40000gn/T/ipykernel_67544/3936134861.py:33: DeprecationWarning: Conversion of an array with ndim > 0 to a scalar is deprecated, and will error in future. Ensure you extract a single element from your array before performing this operation. (Deprecated NumPy 1.25.)\n",
      "  end_sample = int(end_time)\n"
     ]
    },
    {
     "name": "stdout",
     "output_type": "stream",
     "text": [
      "Subject 01 epoched\n",
      "Subject 01 all bands LDA - 0.75\n"
     ]
    },
    {
     "name": "stderr",
     "output_type": "stream",
     "text": [
      "/var/folders/1t/bjxpyljd2576zyjrjv5bnjq40000gn/T/ipykernel_67544/3936134861.py:32: DeprecationWarning: Conversion of an array with ndim > 0 to a scalar is deprecated, and will error in future. Ensure you extract a single element from your array before performing this operation. (Deprecated NumPy 1.25.)\n",
      "  start_sample = int(start_time)\n",
      "/var/folders/1t/bjxpyljd2576zyjrjv5bnjq40000gn/T/ipykernel_67544/3936134861.py:33: DeprecationWarning: Conversion of an array with ndim > 0 to a scalar is deprecated, and will error in future. Ensure you extract a single element from your array before performing this operation. (Deprecated NumPy 1.25.)\n",
      "  end_sample = int(end_time)\n"
     ]
    },
    {
     "name": "stdout",
     "output_type": "stream",
     "text": [
      "Subject 02 epoched\n",
      "Subject 02 all bands LDA - 0.8125\n"
     ]
    },
    {
     "name": "stderr",
     "output_type": "stream",
     "text": [
      "/var/folders/1t/bjxpyljd2576zyjrjv5bnjq40000gn/T/ipykernel_67544/3936134861.py:32: DeprecationWarning: Conversion of an array with ndim > 0 to a scalar is deprecated, and will error in future. Ensure you extract a single element from your array before performing this operation. (Deprecated NumPy 1.25.)\n",
      "  start_sample = int(start_time)\n",
      "/var/folders/1t/bjxpyljd2576zyjrjv5bnjq40000gn/T/ipykernel_67544/3936134861.py:33: DeprecationWarning: Conversion of an array with ndim > 0 to a scalar is deprecated, and will error in future. Ensure you extract a single element from your array before performing this operation. (Deprecated NumPy 1.25.)\n",
      "  end_sample = int(end_time)\n"
     ]
    },
    {
     "name": "stdout",
     "output_type": "stream",
     "text": [
      "skipped trial\n",
      "skipped trial\n",
      "Subject 03 epoched\n",
      "Subject 03 all bands LDA - 1.0\n"
     ]
    },
    {
     "name": "stderr",
     "output_type": "stream",
     "text": [
      "/var/folders/1t/bjxpyljd2576zyjrjv5bnjq40000gn/T/ipykernel_67544/3936134861.py:32: DeprecationWarning: Conversion of an array with ndim > 0 to a scalar is deprecated, and will error in future. Ensure you extract a single element from your array before performing this operation. (Deprecated NumPy 1.25.)\n",
      "  start_sample = int(start_time)\n",
      "/var/folders/1t/bjxpyljd2576zyjrjv5bnjq40000gn/T/ipykernel_67544/3936134861.py:33: DeprecationWarning: Conversion of an array with ndim > 0 to a scalar is deprecated, and will error in future. Ensure you extract a single element from your array before performing this operation. (Deprecated NumPy 1.25.)\n",
      "  end_sample = int(end_time)\n"
     ]
    },
    {
     "name": "stdout",
     "output_type": "stream",
     "text": [
      "skipped trial\n",
      "skipped trial\n",
      "skipped trial\n",
      "skipped trial\n",
      "skipped trial\n",
      "skipped trial\n",
      "skipped trial\n",
      "skipped trial\n",
      "Subject 05 epoched\n",
      "Subject 05 all bands LDA - 1.0\n"
     ]
    },
    {
     "name": "stderr",
     "output_type": "stream",
     "text": [
      "/var/folders/1t/bjxpyljd2576zyjrjv5bnjq40000gn/T/ipykernel_67544/3936134861.py:32: DeprecationWarning: Conversion of an array with ndim > 0 to a scalar is deprecated, and will error in future. Ensure you extract a single element from your array before performing this operation. (Deprecated NumPy 1.25.)\n",
      "  start_sample = int(start_time)\n",
      "/var/folders/1t/bjxpyljd2576zyjrjv5bnjq40000gn/T/ipykernel_67544/3936134861.py:33: DeprecationWarning: Conversion of an array with ndim > 0 to a scalar is deprecated, and will error in future. Ensure you extract a single element from your array before performing this operation. (Deprecated NumPy 1.25.)\n",
      "  end_sample = int(end_time)\n"
     ]
    },
    {
     "name": "stdout",
     "output_type": "stream",
     "text": [
      "Subject 06 epoched\n",
      "Subject 06 all bands LDA - 0.7391304347826086\n"
     ]
    },
    {
     "name": "stderr",
     "output_type": "stream",
     "text": [
      "/var/folders/1t/bjxpyljd2576zyjrjv5bnjq40000gn/T/ipykernel_67544/3936134861.py:32: DeprecationWarning: Conversion of an array with ndim > 0 to a scalar is deprecated, and will error in future. Ensure you extract a single element from your array before performing this operation. (Deprecated NumPy 1.25.)\n",
      "  start_sample = int(start_time)\n",
      "/var/folders/1t/bjxpyljd2576zyjrjv5bnjq40000gn/T/ipykernel_67544/3936134861.py:33: DeprecationWarning: Conversion of an array with ndim > 0 to a scalar is deprecated, and will error in future. Ensure you extract a single element from your array before performing this operation. (Deprecated NumPy 1.25.)\n",
      "  end_sample = int(end_time)\n"
     ]
    },
    {
     "name": "stdout",
     "output_type": "stream",
     "text": [
      "skipped trial\n",
      "Subject 08 epoched\n",
      "Subject 08 all bands LDA - 0.6956521739130435\n"
     ]
    },
    {
     "name": "stderr",
     "output_type": "stream",
     "text": [
      "/var/folders/1t/bjxpyljd2576zyjrjv5bnjq40000gn/T/ipykernel_67544/3936134861.py:32: DeprecationWarning: Conversion of an array with ndim > 0 to a scalar is deprecated, and will error in future. Ensure you extract a single element from your array before performing this operation. (Deprecated NumPy 1.25.)\n",
      "  start_sample = int(start_time)\n",
      "/var/folders/1t/bjxpyljd2576zyjrjv5bnjq40000gn/T/ipykernel_67544/3936134861.py:33: DeprecationWarning: Conversion of an array with ndim > 0 to a scalar is deprecated, and will error in future. Ensure you extract a single element from your array before performing this operation. (Deprecated NumPy 1.25.)\n",
      "  end_sample = int(end_time)\n"
     ]
    },
    {
     "name": "stdout",
     "output_type": "stream",
     "text": [
      "skipped trial\n",
      "Subject 09 epoched\n",
      "Subject 09 all bands LDA - 0.6086956521739131\n"
     ]
    },
    {
     "name": "stderr",
     "output_type": "stream",
     "text": [
      "/var/folders/1t/bjxpyljd2576zyjrjv5bnjq40000gn/T/ipykernel_67544/3936134861.py:32: DeprecationWarning: Conversion of an array with ndim > 0 to a scalar is deprecated, and will error in future. Ensure you extract a single element from your array before performing this operation. (Deprecated NumPy 1.25.)\n",
      "  start_sample = int(start_time)\n",
      "/var/folders/1t/bjxpyljd2576zyjrjv5bnjq40000gn/T/ipykernel_67544/3936134861.py:33: DeprecationWarning: Conversion of an array with ndim > 0 to a scalar is deprecated, and will error in future. Ensure you extract a single element from your array before performing this operation. (Deprecated NumPy 1.25.)\n",
      "  end_sample = int(end_time)\n"
     ]
    },
    {
     "name": "stdout",
     "output_type": "stream",
     "text": [
      "Subject 10 epoched\n",
      "Subject 10 all bands LDA - 0.8125\n"
     ]
    },
    {
     "name": "stderr",
     "output_type": "stream",
     "text": [
      "/var/folders/1t/bjxpyljd2576zyjrjv5bnjq40000gn/T/ipykernel_67544/3936134861.py:32: DeprecationWarning: Conversion of an array with ndim > 0 to a scalar is deprecated, and will error in future. Ensure you extract a single element from your array before performing this operation. (Deprecated NumPy 1.25.)\n",
      "  start_sample = int(start_time)\n",
      "/var/folders/1t/bjxpyljd2576zyjrjv5bnjq40000gn/T/ipykernel_67544/3936134861.py:33: DeprecationWarning: Conversion of an array with ndim > 0 to a scalar is deprecated, and will error in future. Ensure you extract a single element from your array before performing this operation. (Deprecated NumPy 1.25.)\n",
      "  end_sample = int(end_time)\n"
     ]
    },
    {
     "name": "stdout",
     "output_type": "stream",
     "text": [
      "skipped trial\n",
      "Subject 11 epoched\n",
      "Subject 11 all bands LDA - 0.6956521739130435\n"
     ]
    },
    {
     "name": "stderr",
     "output_type": "stream",
     "text": [
      "/var/folders/1t/bjxpyljd2576zyjrjv5bnjq40000gn/T/ipykernel_67544/3936134861.py:32: DeprecationWarning: Conversion of an array with ndim > 0 to a scalar is deprecated, and will error in future. Ensure you extract a single element from your array before performing this operation. (Deprecated NumPy 1.25.)\n",
      "  start_sample = int(start_time)\n",
      "/var/folders/1t/bjxpyljd2576zyjrjv5bnjq40000gn/T/ipykernel_67544/3936134861.py:33: DeprecationWarning: Conversion of an array with ndim > 0 to a scalar is deprecated, and will error in future. Ensure you extract a single element from your array before performing this operation. (Deprecated NumPy 1.25.)\n",
      "  end_sample = int(end_time)\n"
     ]
    },
    {
     "name": "stdout",
     "output_type": "stream",
     "text": [
      "Subject 12 epoched\n",
      "Subject 12 all bands LDA - 0.7083333333333334\n"
     ]
    },
    {
     "name": "stderr",
     "output_type": "stream",
     "text": [
      "/var/folders/1t/bjxpyljd2576zyjrjv5bnjq40000gn/T/ipykernel_67544/3936134861.py:32: DeprecationWarning: Conversion of an array with ndim > 0 to a scalar is deprecated, and will error in future. Ensure you extract a single element from your array before performing this operation. (Deprecated NumPy 1.25.)\n",
      "  start_sample = int(start_time)\n",
      "/var/folders/1t/bjxpyljd2576zyjrjv5bnjq40000gn/T/ipykernel_67544/3936134861.py:33: DeprecationWarning: Conversion of an array with ndim > 0 to a scalar is deprecated, and will error in future. Ensure you extract a single element from your array before performing this operation. (Deprecated NumPy 1.25.)\n",
      "  end_sample = int(end_time)\n"
     ]
    },
    {
     "name": "stdout",
     "output_type": "stream",
     "text": [
      "Subject 15 epoched\n",
      "Subject 15 all bands LDA - 1.0\n"
     ]
    },
    {
     "name": "stderr",
     "output_type": "stream",
     "text": [
      "/var/folders/1t/bjxpyljd2576zyjrjv5bnjq40000gn/T/ipykernel_67544/3936134861.py:32: DeprecationWarning: Conversion of an array with ndim > 0 to a scalar is deprecated, and will error in future. Ensure you extract a single element from your array before performing this operation. (Deprecated NumPy 1.25.)\n",
      "  start_sample = int(start_time)\n",
      "/var/folders/1t/bjxpyljd2576zyjrjv5bnjq40000gn/T/ipykernel_67544/3936134861.py:33: DeprecationWarning: Conversion of an array with ndim > 0 to a scalar is deprecated, and will error in future. Ensure you extract a single element from your array before performing this operation. (Deprecated NumPy 1.25.)\n",
      "  end_sample = int(end_time)\n"
     ]
    },
    {
     "name": "stdout",
     "output_type": "stream",
     "text": [
      "skipped trial\n",
      "skipped trial\n",
      "skipped trial\n",
      "Subject 16 epoched\n",
      "Subject 16 all bands LDA - 0.42857142857142855\n"
     ]
    },
    {
     "name": "stderr",
     "output_type": "stream",
     "text": [
      "/var/folders/1t/bjxpyljd2576zyjrjv5bnjq40000gn/T/ipykernel_67544/3936134861.py:32: DeprecationWarning: Conversion of an array with ndim > 0 to a scalar is deprecated, and will error in future. Ensure you extract a single element from your array before performing this operation. (Deprecated NumPy 1.25.)\n",
      "  start_sample = int(start_time)\n",
      "/var/folders/1t/bjxpyljd2576zyjrjv5bnjq40000gn/T/ipykernel_67544/3936134861.py:33: DeprecationWarning: Conversion of an array with ndim > 0 to a scalar is deprecated, and will error in future. Ensure you extract a single element from your array before performing this operation. (Deprecated NumPy 1.25.)\n",
      "  end_sample = int(end_time)\n"
     ]
    },
    {
     "name": "stdout",
     "output_type": "stream",
     "text": [
      "Subject 17 epoched\n",
      "Subject 17 all bands LDA - 0.8823529411764706\n"
     ]
    },
    {
     "name": "stderr",
     "output_type": "stream",
     "text": [
      "/var/folders/1t/bjxpyljd2576zyjrjv5bnjq40000gn/T/ipykernel_67544/3936134861.py:32: DeprecationWarning: Conversion of an array with ndim > 0 to a scalar is deprecated, and will error in future. Ensure you extract a single element from your array before performing this operation. (Deprecated NumPy 1.25.)\n",
      "  start_sample = int(start_time)\n",
      "/var/folders/1t/bjxpyljd2576zyjrjv5bnjq40000gn/T/ipykernel_67544/3936134861.py:33: DeprecationWarning: Conversion of an array with ndim > 0 to a scalar is deprecated, and will error in future. Ensure you extract a single element from your array before performing this operation. (Deprecated NumPy 1.25.)\n",
      "  end_sample = int(end_time)\n"
     ]
    },
    {
     "name": "stdout",
     "output_type": "stream",
     "text": [
      "skipped trial\n",
      "skipped trial\n",
      "skipped trial\n",
      "skipped trial\n",
      "skipped trial\n",
      "Subject 18 epoched\n",
      "Subject 18 all bands LDA - 0.8947368421052632\n"
     ]
    },
    {
     "name": "stderr",
     "output_type": "stream",
     "text": [
      "/var/folders/1t/bjxpyljd2576zyjrjv5bnjq40000gn/T/ipykernel_67544/3936134861.py:32: DeprecationWarning: Conversion of an array with ndim > 0 to a scalar is deprecated, and will error in future. Ensure you extract a single element from your array before performing this operation. (Deprecated NumPy 1.25.)\n",
      "  start_sample = int(start_time)\n",
      "/var/folders/1t/bjxpyljd2576zyjrjv5bnjq40000gn/T/ipykernel_67544/3936134861.py:33: DeprecationWarning: Conversion of an array with ndim > 0 to a scalar is deprecated, and will error in future. Ensure you extract a single element from your array before performing this operation. (Deprecated NumPy 1.25.)\n",
      "  end_sample = int(end_time)\n"
     ]
    },
    {
     "name": "stdout",
     "output_type": "stream",
     "text": [
      "skipped trial\n",
      "Subject 19 epoched\n",
      "Subject 19 all bands LDA - 0.5217391304347826\n"
     ]
    },
    {
     "name": "stderr",
     "output_type": "stream",
     "text": [
      "/var/folders/1t/bjxpyljd2576zyjrjv5bnjq40000gn/T/ipykernel_67544/3936134861.py:32: DeprecationWarning: Conversion of an array with ndim > 0 to a scalar is deprecated, and will error in future. Ensure you extract a single element from your array before performing this operation. (Deprecated NumPy 1.25.)\n",
      "  start_sample = int(start_time)\n",
      "/var/folders/1t/bjxpyljd2576zyjrjv5bnjq40000gn/T/ipykernel_67544/3936134861.py:33: DeprecationWarning: Conversion of an array with ndim > 0 to a scalar is deprecated, and will error in future. Ensure you extract a single element from your array before performing this operation. (Deprecated NumPy 1.25.)\n",
      "  end_sample = int(end_time)\n"
     ]
    },
    {
     "name": "stdout",
     "output_type": "stream",
     "text": [
      "skipped trial\n",
      "Subject 20 epoched\n",
      "Subject 20 all bands LDA - 0.7391304347826086\n"
     ]
    },
    {
     "data": {
      "image/png": "[encoded data removed]",
      "text/plain": [
       "<Figure size 1000x600 with 1 Axes>"
      ]
     },
     "metadata": {},
     "output_type": "display_data"
    }
   ],
   "source": [
    "## DOWNSAMPLE 1\n",
    "all_results = processAllSubjs(downsample_rate=1)\n",
    "results_avg = getAvgAllSubjs(all_results)\n",
    "plot_results(results_avg)"
   ]
  },
  {
   "cell_type": "code",
   "execution_count": 48,
   "id": "7d058160-d7a6-4027-9a86-fa15c2b5d507",
   "metadata": {},
   "outputs": [
    {
     "name": "stderr",
     "output_type": "stream",
     "text": [
      "/var/folders/1t/bjxpyljd2576zyjrjv5bnjq40000gn/T/ipykernel_67544/3936134861.py:32: DeprecationWarning: Conversion of an array with ndim > 0 to a scalar is deprecated, and will error in future. Ensure you extract a single element from your array before performing this operation. (Deprecated NumPy 1.25.)\n",
      "  start_sample = int(start_time)\n",
      "/var/folders/1t/bjxpyljd2576zyjrjv5bnjq40000gn/T/ipykernel_67544/3936134861.py:33: DeprecationWarning: Conversion of an array with ndim > 0 to a scalar is deprecated, and will error in future. Ensure you extract a single element from your array before performing this operation. (Deprecated NumPy 1.25.)\n",
      "  end_sample = int(end_time)\n"
     ]
    },
    {
     "name": "stdout",
     "output_type": "stream",
     "text": [
      "Subject 01 epoched\n",
      "Subject 01 all bands LDA - 0.625\n"
     ]
    },
    {
     "name": "stderr",
     "output_type": "stream",
     "text": [
      "/var/folders/1t/bjxpyljd2576zyjrjv5bnjq40000gn/T/ipykernel_67544/3936134861.py:32: DeprecationWarning: Conversion of an array with ndim > 0 to a scalar is deprecated, and will error in future. Ensure you extract a single element from your array before performing this operation. (Deprecated NumPy 1.25.)\n",
      "  start_sample = int(start_time)\n",
      "/var/folders/1t/bjxpyljd2576zyjrjv5bnjq40000gn/T/ipykernel_67544/3936134861.py:33: DeprecationWarning: Conversion of an array with ndim > 0 to a scalar is deprecated, and will error in future. Ensure you extract a single element from your array before performing this operation. (Deprecated NumPy 1.25.)\n",
      "  end_sample = int(end_time)\n"
     ]
    },
    {
     "name": "stdout",
     "output_type": "stream",
     "text": [
      "Subject 02 epoched\n",
      "Subject 02 all bands LDA - 0.75\n"
     ]
    },
    {
     "name": "stderr",
     "output_type": "stream",
     "text": [
      "/var/folders/1t/bjxpyljd2576zyjrjv5bnjq40000gn/T/ipykernel_67544/3936134861.py:32: DeprecationWarning: Conversion of an array with ndim > 0 to a scalar is deprecated, and will error in future. Ensure you extract a single element from your array before performing this operation. (Deprecated NumPy 1.25.)\n",
      "  start_sample = int(start_time)\n",
      "/var/folders/1t/bjxpyljd2576zyjrjv5bnjq40000gn/T/ipykernel_67544/3936134861.py:33: DeprecationWarning: Conversion of an array with ndim > 0 to a scalar is deprecated, and will error in future. Ensure you extract a single element from your array before performing this operation. (Deprecated NumPy 1.25.)\n",
      "  end_sample = int(end_time)\n"
     ]
    },
    {
     "name": "stdout",
     "output_type": "stream",
     "text": [
      "skipped trial\n",
      "skipped trial\n",
      "Subject 03 epoched\n",
      "Subject 03 all bands LDA - 1.0\n"
     ]
    },
    {
     "name": "stderr",
     "output_type": "stream",
     "text": [
      "/var/folders/1t/bjxpyljd2576zyjrjv5bnjq40000gn/T/ipykernel_67544/3936134861.py:32: DeprecationWarning: Conversion of an array with ndim > 0 to a scalar is deprecated, and will error in future. Ensure you extract a single element from your array before performing this operation. (Deprecated NumPy 1.25.)\n",
      "  start_sample = int(start_time)\n",
      "/var/folders/1t/bjxpyljd2576zyjrjv5bnjq40000gn/T/ipykernel_67544/3936134861.py:33: DeprecationWarning: Conversion of an array with ndim > 0 to a scalar is deprecated, and will error in future. Ensure you extract a single element from your array before performing this operation. (Deprecated NumPy 1.25.)\n",
      "  end_sample = int(end_time)\n"
     ]
    },
    {
     "name": "stdout",
     "output_type": "stream",
     "text": [
      "skipped trial\n",
      "skipped trial\n",
      "skipped trial\n",
      "skipped trial\n",
      "skipped trial\n",
      "skipped trial\n",
      "skipped trial\n",
      "skipped trial\n",
      "Subject 05 epoched\n",
      "Subject 05 all bands LDA - 0.8666666666666667\n"
     ]
    },
    {
     "name": "stderr",
     "output_type": "stream",
     "text": [
      "/var/folders/1t/bjxpyljd2576zyjrjv5bnjq40000gn/T/ipykernel_67544/3936134861.py:32: DeprecationWarning: Conversion of an array with ndim > 0 to a scalar is deprecated, and will error in future. Ensure you extract a single element from your array before performing this operation. (Deprecated NumPy 1.25.)\n",
      "  start_sample = int(start_time)\n",
      "/var/folders/1t/bjxpyljd2576zyjrjv5bnjq40000gn/T/ipykernel_67544/3936134861.py:33: DeprecationWarning: Conversion of an array with ndim > 0 to a scalar is deprecated, and will error in future. Ensure you extract a single element from your array before performing this operation. (Deprecated NumPy 1.25.)\n",
      "  end_sample = int(end_time)\n"
     ]
    },
    {
     "name": "stdout",
     "output_type": "stream",
     "text": [
      "Subject 06 epoched\n",
      "Subject 06 all bands LDA - 0.8260869565217391\n"
     ]
    },
    {
     "name": "stderr",
     "output_type": "stream",
     "text": [
      "/var/folders/1t/bjxpyljd2576zyjrjv5bnjq40000gn/T/ipykernel_67544/3936134861.py:32: DeprecationWarning: Conversion of an array with ndim > 0 to a scalar is deprecated, and will error in future. Ensure you extract a single element from your array before performing this operation. (Deprecated NumPy 1.25.)\n",
      "  start_sample = int(start_time)\n",
      "/var/folders/1t/bjxpyljd2576zyjrjv5bnjq40000gn/T/ipykernel_67544/3936134861.py:33: DeprecationWarning: Conversion of an array with ndim > 0 to a scalar is deprecated, and will error in future. Ensure you extract a single element from your array before performing this operation. (Deprecated NumPy 1.25.)\n",
      "  end_sample = int(end_time)\n"
     ]
    },
    {
     "name": "stdout",
     "output_type": "stream",
     "text": [
      "skipped trial\n",
      "Subject 08 epoched\n",
      "Subject 08 all bands LDA - 0.5652173913043478\n"
     ]
    },
    {
     "name": "stderr",
     "output_type": "stream",
     "text": [
      "/var/folders/1t/bjxpyljd2576zyjrjv5bnjq40000gn/T/ipykernel_67544/3936134861.py:32: DeprecationWarning: Conversion of an array with ndim > 0 to a scalar is deprecated, and will error in future. Ensure you extract a single element from your array before performing this operation. (Deprecated NumPy 1.25.)\n",
      "  start_sample = int(start_time)\n",
      "/var/folders/1t/bjxpyljd2576zyjrjv5bnjq40000gn/T/ipykernel_67544/3936134861.py:33: DeprecationWarning: Conversion of an array with ndim > 0 to a scalar is deprecated, and will error in future. Ensure you extract a single element from your array before performing this operation. (Deprecated NumPy 1.25.)\n",
      "  end_sample = int(end_time)\n"
     ]
    },
    {
     "name": "stdout",
     "output_type": "stream",
     "text": [
      "skipped trial\n",
      "Subject 09 epoched\n",
      "Subject 09 all bands LDA - 0.6956521739130435\n"
     ]
    },
    {
     "name": "stderr",
     "output_type": "stream",
     "text": [
      "/var/folders/1t/bjxpyljd2576zyjrjv5bnjq40000gn/T/ipykernel_67544/3936134861.py:32: DeprecationWarning: Conversion of an array with ndim > 0 to a scalar is deprecated, and will error in future. Ensure you extract a single element from your array before performing this operation. (Deprecated NumPy 1.25.)\n",
      "  start_sample = int(start_time)\n",
      "/var/folders/1t/bjxpyljd2576zyjrjv5bnjq40000gn/T/ipykernel_67544/3936134861.py:33: DeprecationWarning: Conversion of an array with ndim > 0 to a scalar is deprecated, and will error in future. Ensure you extract a single element from your array before performing this operation. (Deprecated NumPy 1.25.)\n",
      "  end_sample = int(end_time)\n"
     ]
    },
    {
     "name": "stdout",
     "output_type": "stream",
     "text": [
      "Subject 10 epoched\n",
      "Subject 10 all bands LDA - 0.8125\n"
     ]
    },
    {
     "name": "stderr",
     "output_type": "stream",
     "text": [
      "/var/folders/1t/bjxpyljd2576zyjrjv5bnjq40000gn/T/ipykernel_67544/3936134861.py:32: DeprecationWarning: Conversion of an array with ndim > 0 to a scalar is deprecated, and will error in future. Ensure you extract a single element from your array before performing this operation. (Deprecated NumPy 1.25.)\n",
      "  start_sample = int(start_time)\n",
      "/var/folders/1t/bjxpyljd2576zyjrjv5bnjq40000gn/T/ipykernel_67544/3936134861.py:33: DeprecationWarning: Conversion of an array with ndim > 0 to a scalar is deprecated, and will error in future. Ensure you extract a single element from your array before performing this operation. (Deprecated NumPy 1.25.)\n",
      "  end_sample = int(end_time)\n"
     ]
    },
    {
     "name": "stdout",
     "output_type": "stream",
     "text": [
      "skipped trial\n",
      "Subject 11 epoched\n",
      "Subject 11 all bands LDA - 0.5217391304347826\n"
     ]
    },
    {
     "name": "stderr",
     "output_type": "stream",
     "text": [
      "/var/folders/1t/bjxpyljd2576zyjrjv5bnjq40000gn/T/ipykernel_67544/3936134861.py:32: DeprecationWarning: Conversion of an array with ndim > 0 to a scalar is deprecated, and will error in future. Ensure you extract a single element from your array before performing this operation. (Deprecated NumPy 1.25.)\n",
      "  start_sample = int(start_time)\n",
      "/var/folders/1t/bjxpyljd2576zyjrjv5bnjq40000gn/T/ipykernel_67544/3936134861.py:33: DeprecationWarning: Conversion of an array with ndim > 0 to a scalar is deprecated, and will error in future. Ensure you extract a single element from your array before performing this operation. (Deprecated NumPy 1.25.)\n",
      "  end_sample = int(end_time)\n"
     ]
    },
    {
     "name": "stdout",
     "output_type": "stream",
     "text": [
      "Subject 12 epoched\n",
      "Subject 12 all bands LDA - 0.75\n"
     ]
    },
    {
     "name": "stderr",
     "output_type": "stream",
     "text": [
      "/var/folders/1t/bjxpyljd2576zyjrjv5bnjq40000gn/T/ipykernel_67544/3936134861.py:32: DeprecationWarning: Conversion of an array with ndim > 0 to a scalar is deprecated, and will error in future. Ensure you extract a single element from your array before performing this operation. (Deprecated NumPy 1.25.)\n",
      "  start_sample = int(start_time)\n",
      "/var/folders/1t/bjxpyljd2576zyjrjv5bnjq40000gn/T/ipykernel_67544/3936134861.py:33: DeprecationWarning: Conversion of an array with ndim > 0 to a scalar is deprecated, and will error in future. Ensure you extract a single element from your array before performing this operation. (Deprecated NumPy 1.25.)\n",
      "  end_sample = int(end_time)\n"
     ]
    },
    {
     "name": "stdout",
     "output_type": "stream",
     "text": [
      "Subject 15 epoched\n",
      "Subject 15 all bands LDA - 0.9411764705882353\n"
     ]
    },
    {
     "name": "stderr",
     "output_type": "stream",
     "text": [
      "/var/folders/1t/bjxpyljd2576zyjrjv5bnjq40000gn/T/ipykernel_67544/3936134861.py:32: DeprecationWarning: Conversion of an array with ndim > 0 to a scalar is deprecated, and will error in future. Ensure you extract a single element from your array before performing this operation. (Deprecated NumPy 1.25.)\n",
      "  start_sample = int(start_time)\n",
      "/var/folders/1t/bjxpyljd2576zyjrjv5bnjq40000gn/T/ipykernel_67544/3936134861.py:33: DeprecationWarning: Conversion of an array with ndim > 0 to a scalar is deprecated, and will error in future. Ensure you extract a single element from your array before performing this operation. (Deprecated NumPy 1.25.)\n",
      "  end_sample = int(end_time)\n"
     ]
    },
    {
     "name": "stdout",
     "output_type": "stream",
     "text": [
      "skipped trial\n",
      "skipped trial\n",
      "skipped trial\n",
      "Subject 16 epoched\n",
      "Subject 16 all bands LDA - 0.5\n"
     ]
    },
    {
     "name": "stderr",
     "output_type": "stream",
     "text": [
      "/var/folders/1t/bjxpyljd2576zyjrjv5bnjq40000gn/T/ipykernel_67544/3936134861.py:32: DeprecationWarning: Conversion of an array with ndim > 0 to a scalar is deprecated, and will error in future. Ensure you extract a single element from your array before performing this operation. (Deprecated NumPy 1.25.)\n",
      "  start_sample = int(start_time)\n",
      "/var/folders/1t/bjxpyljd2576zyjrjv5bnjq40000gn/T/ipykernel_67544/3936134861.py:33: DeprecationWarning: Conversion of an array with ndim > 0 to a scalar is deprecated, and will error in future. Ensure you extract a single element from your array before performing this operation. (Deprecated NumPy 1.25.)\n",
      "  end_sample = int(end_time)\n"
     ]
    },
    {
     "name": "stdout",
     "output_type": "stream",
     "text": [
      "Subject 17 epoched\n",
      "Subject 17 all bands LDA - 0.8823529411764706\n"
     ]
    },
    {
     "name": "stderr",
     "output_type": "stream",
     "text": [
      "/var/folders/1t/bjxpyljd2576zyjrjv5bnjq40000gn/T/ipykernel_67544/3936134861.py:32: DeprecationWarning: Conversion of an array with ndim > 0 to a scalar is deprecated, and will error in future. Ensure you extract a single element from your array before performing this operation. (Deprecated NumPy 1.25.)\n",
      "  start_sample = int(start_time)\n",
      "/var/folders/1t/bjxpyljd2576zyjrjv5bnjq40000gn/T/ipykernel_67544/3936134861.py:33: DeprecationWarning: Conversion of an array with ndim > 0 to a scalar is deprecated, and will error in future. Ensure you extract a single element from your array before performing this operation. (Deprecated NumPy 1.25.)\n",
      "  end_sample = int(end_time)\n"
     ]
    },
    {
     "name": "stdout",
     "output_type": "stream",
     "text": [
      "skipped trial\n",
      "skipped trial\n",
      "skipped trial\n",
      "skipped trial\n",
      "skipped trial\n",
      "Subject 18 epoched\n",
      "Subject 18 all bands LDA - 0.8947368421052632\n"
     ]
    },
    {
     "name": "stderr",
     "output_type": "stream",
     "text": [
      "/var/folders/1t/bjxpyljd2576zyjrjv5bnjq40000gn/T/ipykernel_67544/3936134861.py:32: DeprecationWarning: Conversion of an array with ndim > 0 to a scalar is deprecated, and will error in future. Ensure you extract a single element from your array before performing this operation. (Deprecated NumPy 1.25.)\n",
      "  start_sample = int(start_time)\n",
      "/var/folders/1t/bjxpyljd2576zyjrjv5bnjq40000gn/T/ipykernel_67544/3936134861.py:33: DeprecationWarning: Conversion of an array with ndim > 0 to a scalar is deprecated, and will error in future. Ensure you extract a single element from your array before performing this operation. (Deprecated NumPy 1.25.)\n",
      "  end_sample = int(end_time)\n"
     ]
    },
    {
     "name": "stdout",
     "output_type": "stream",
     "text": [
      "skipped trial\n",
      "Subject 19 epoched\n",
      "Subject 19 all bands LDA - 0.5652173913043478\n"
     ]
    },
    {
     "name": "stderr",
     "output_type": "stream",
     "text": [
      "/var/folders/1t/bjxpyljd2576zyjrjv5bnjq40000gn/T/ipykernel_67544/3936134861.py:32: DeprecationWarning: Conversion of an array with ndim > 0 to a scalar is deprecated, and will error in future. Ensure you extract a single element from your array before performing this operation. (Deprecated NumPy 1.25.)\n",
      "  start_sample = int(start_time)\n",
      "/var/folders/1t/bjxpyljd2576zyjrjv5bnjq40000gn/T/ipykernel_67544/3936134861.py:33: DeprecationWarning: Conversion of an array with ndim > 0 to a scalar is deprecated, and will error in future. Ensure you extract a single element from your array before performing this operation. (Deprecated NumPy 1.25.)\n",
      "  end_sample = int(end_time)\n"
     ]
    },
    {
     "name": "stdout",
     "output_type": "stream",
     "text": [
      "skipped trial\n",
      "Subject 20 epoched\n",
      "Subject 20 all bands LDA - 0.9130434782608695\n"
     ]
    },
    {
     "data": {
      "image/png": "[encoded data removed]",
      "text/plain": [
       "<Figure size 1000x600 with 1 Axes>"
      ]
     },
     "metadata": {},
     "output_type": "display_data"
    }
   ],
   "source": [
    "## DOWNSAMPLE 2\n",
    "\n",
    "all_results = processAllSubjs(downsample_rate=2)\n",
    "results_avg = getAvgAllSubjs(all_results)\n",
    "plot_results(results_avg)"
   ]
  },
  {
   "cell_type": "code",
   "execution_count": 49,
   "id": "faac06c4-6232-4d4b-b994-659aef1103d4",
   "metadata": {
    "scrolled": true
   },
   "outputs": [
    {
     "name": "stderr",
     "output_type": "stream",
     "text": [
      "/var/folders/1t/bjxpyljd2576zyjrjv5bnjq40000gn/T/ipykernel_67544/3936134861.py:32: DeprecationWarning: Conversion of an array with ndim > 0 to a scalar is deprecated, and will error in future. Ensure you extract a single element from your array before performing this operation. (Deprecated NumPy 1.25.)\n",
      "  start_sample = int(start_time)\n",
      "/var/folders/1t/bjxpyljd2576zyjrjv5bnjq40000gn/T/ipykernel_67544/3936134861.py:33: DeprecationWarning: Conversion of an array with ndim > 0 to a scalar is deprecated, and will error in future. Ensure you extract a single element from your array before performing this operation. (Deprecated NumPy 1.25.)\n",
      "  end_sample = int(end_time)\n"
     ]
    },
    {
     "name": "stdout",
     "output_type": "stream",
     "text": [
      "Subject 01 epoched\n",
      "Subject 01 all bands LDA - 0.625\n"
     ]
    },
    {
     "name": "stderr",
     "output_type": "stream",
     "text": [
      "/var/folders/1t/bjxpyljd2576zyjrjv5bnjq40000gn/T/ipykernel_67544/3936134861.py:32: DeprecationWarning: Conversion of an array with ndim > 0 to a scalar is deprecated, and will error in future. Ensure you extract a single element from your array before performing this operation. (Deprecated NumPy 1.25.)\n",
      "  start_sample = int(start_time)\n",
      "/var/folders/1t/bjxpyljd2576zyjrjv5bnjq40000gn/T/ipykernel_67544/3936134861.py:33: DeprecationWarning: Conversion of an array with ndim > 0 to a scalar is deprecated, and will error in future. Ensure you extract a single element from your array before performing this operation. (Deprecated NumPy 1.25.)\n",
      "  end_sample = int(end_time)\n"
     ]
    },
    {
     "name": "stdout",
     "output_type": "stream",
     "text": [
      "Subject 02 epoched\n",
      "Subject 02 all bands LDA - 0.4375\n"
     ]
    },
    {
     "name": "stderr",
     "output_type": "stream",
     "text": [
      "/var/folders/1t/bjxpyljd2576zyjrjv5bnjq40000gn/T/ipykernel_67544/3936134861.py:32: DeprecationWarning: Conversion of an array with ndim > 0 to a scalar is deprecated, and will error in future. Ensure you extract a single element from your array before performing this operation. (Deprecated NumPy 1.25.)\n",
      "  start_sample = int(start_time)\n",
      "/var/folders/1t/bjxpyljd2576zyjrjv5bnjq40000gn/T/ipykernel_67544/3936134861.py:33: DeprecationWarning: Conversion of an array with ndim > 0 to a scalar is deprecated, and will error in future. Ensure you extract a single element from your array before performing this operation. (Deprecated NumPy 1.25.)\n",
      "  end_sample = int(end_time)\n"
     ]
    },
    {
     "name": "stdout",
     "output_type": "stream",
     "text": [
      "skipped trial\n",
      "skipped trial\n",
      "Subject 03 epoched\n",
      "Subject 03 all bands LDA - 0.8636363636363636\n"
     ]
    },
    {
     "name": "stderr",
     "output_type": "stream",
     "text": [
      "/var/folders/1t/bjxpyljd2576zyjrjv5bnjq40000gn/T/ipykernel_67544/3936134861.py:32: DeprecationWarning: Conversion of an array with ndim > 0 to a scalar is deprecated, and will error in future. Ensure you extract a single element from your array before performing this operation. (Deprecated NumPy 1.25.)\n",
      "  start_sample = int(start_time)\n",
      "/var/folders/1t/bjxpyljd2576zyjrjv5bnjq40000gn/T/ipykernel_67544/3936134861.py:33: DeprecationWarning: Conversion of an array with ndim > 0 to a scalar is deprecated, and will error in future. Ensure you extract a single element from your array before performing this operation. (Deprecated NumPy 1.25.)\n",
      "  end_sample = int(end_time)\n"
     ]
    },
    {
     "name": "stdout",
     "output_type": "stream",
     "text": [
      "skipped trial\n",
      "skipped trial\n",
      "skipped trial\n",
      "skipped trial\n",
      "skipped trial\n",
      "skipped trial\n",
      "skipped trial\n",
      "skipped trial\n",
      "Subject 05 epoched\n",
      "Subject 05 all bands LDA - 0.8\n"
     ]
    },
    {
     "name": "stderr",
     "output_type": "stream",
     "text": [
      "/var/folders/1t/bjxpyljd2576zyjrjv5bnjq40000gn/T/ipykernel_67544/3936134861.py:32: DeprecationWarning: Conversion of an array with ndim > 0 to a scalar is deprecated, and will error in future. Ensure you extract a single element from your array before performing this operation. (Deprecated NumPy 1.25.)\n",
      "  start_sample = int(start_time)\n",
      "/var/folders/1t/bjxpyljd2576zyjrjv5bnjq40000gn/T/ipykernel_67544/3936134861.py:33: DeprecationWarning: Conversion of an array with ndim > 0 to a scalar is deprecated, and will error in future. Ensure you extract a single element from your array before performing this operation. (Deprecated NumPy 1.25.)\n",
      "  end_sample = int(end_time)\n"
     ]
    },
    {
     "name": "stdout",
     "output_type": "stream",
     "text": [
      "Subject 06 epoched\n",
      "Subject 06 all bands LDA - 0.4782608695652174\n"
     ]
    },
    {
     "name": "stderr",
     "output_type": "stream",
     "text": [
      "/var/folders/1t/bjxpyljd2576zyjrjv5bnjq40000gn/T/ipykernel_67544/3936134861.py:32: DeprecationWarning: Conversion of an array with ndim > 0 to a scalar is deprecated, and will error in future. Ensure you extract a single element from your array before performing this operation. (Deprecated NumPy 1.25.)\n",
      "  start_sample = int(start_time)\n",
      "/var/folders/1t/bjxpyljd2576zyjrjv5bnjq40000gn/T/ipykernel_67544/3936134861.py:33: DeprecationWarning: Conversion of an array with ndim > 0 to a scalar is deprecated, and will error in future. Ensure you extract a single element from your array before performing this operation. (Deprecated NumPy 1.25.)\n",
      "  end_sample = int(end_time)\n"
     ]
    },
    {
     "name": "stdout",
     "output_type": "stream",
     "text": [
      "skipped trial\n",
      "Subject 08 epoched\n",
      "Subject 08 all bands LDA - 0.6956521739130435\n"
     ]
    },
    {
     "name": "stderr",
     "output_type": "stream",
     "text": [
      "/var/folders/1t/bjxpyljd2576zyjrjv5bnjq40000gn/T/ipykernel_67544/3936134861.py:32: DeprecationWarning: Conversion of an array with ndim > 0 to a scalar is deprecated, and will error in future. Ensure you extract a single element from your array before performing this operation. (Deprecated NumPy 1.25.)\n",
      "  start_sample = int(start_time)\n",
      "/var/folders/1t/bjxpyljd2576zyjrjv5bnjq40000gn/T/ipykernel_67544/3936134861.py:33: DeprecationWarning: Conversion of an array with ndim > 0 to a scalar is deprecated, and will error in future. Ensure you extract a single element from your array before performing this operation. (Deprecated NumPy 1.25.)\n",
      "  end_sample = int(end_time)\n"
     ]
    },
    {
     "name": "stdout",
     "output_type": "stream",
     "text": [
      "skipped trial\n",
      "Subject 09 epoched\n",
      "Subject 09 all bands LDA - 0.6956521739130435\n"
     ]
    },
    {
     "name": "stderr",
     "output_type": "stream",
     "text": [
      "/var/folders/1t/bjxpyljd2576zyjrjv5bnjq40000gn/T/ipykernel_67544/3936134861.py:32: DeprecationWarning: Conversion of an array with ndim > 0 to a scalar is deprecated, and will error in future. Ensure you extract a single element from your array before performing this operation. (Deprecated NumPy 1.25.)\n",
      "  start_sample = int(start_time)\n",
      "/var/folders/1t/bjxpyljd2576zyjrjv5bnjq40000gn/T/ipykernel_67544/3936134861.py:33: DeprecationWarning: Conversion of an array with ndim > 0 to a scalar is deprecated, and will error in future. Ensure you extract a single element from your array before performing this operation. (Deprecated NumPy 1.25.)\n",
      "  end_sample = int(end_time)\n"
     ]
    },
    {
     "name": "stdout",
     "output_type": "stream",
     "text": [
      "Subject 10 epoched\n",
      "Subject 10 all bands LDA - 0.5\n"
     ]
    },
    {
     "name": "stderr",
     "output_type": "stream",
     "text": [
      "/var/folders/1t/bjxpyljd2576zyjrjv5bnjq40000gn/T/ipykernel_67544/3936134861.py:32: DeprecationWarning: Conversion of an array with ndim > 0 to a scalar is deprecated, and will error in future. Ensure you extract a single element from your array before performing this operation. (Deprecated NumPy 1.25.)\n",
      "  start_sample = int(start_time)\n",
      "/var/folders/1t/bjxpyljd2576zyjrjv5bnjq40000gn/T/ipykernel_67544/3936134861.py:33: DeprecationWarning: Conversion of an array with ndim > 0 to a scalar is deprecated, and will error in future. Ensure you extract a single element from your array before performing this operation. (Deprecated NumPy 1.25.)\n",
      "  end_sample = int(end_time)\n"
     ]
    },
    {
     "name": "stdout",
     "output_type": "stream",
     "text": [
      "skipped trial\n",
      "Subject 11 epoched\n",
      "Subject 11 all bands LDA - 0.782608695652174\n"
     ]
    },
    {
     "name": "stderr",
     "output_type": "stream",
     "text": [
      "/var/folders/1t/bjxpyljd2576zyjrjv5bnjq40000gn/T/ipykernel_67544/3936134861.py:32: DeprecationWarning: Conversion of an array with ndim > 0 to a scalar is deprecated, and will error in future. Ensure you extract a single element from your array before performing this operation. (Deprecated NumPy 1.25.)\n",
      "  start_sample = int(start_time)\n",
      "/var/folders/1t/bjxpyljd2576zyjrjv5bnjq40000gn/T/ipykernel_67544/3936134861.py:33: DeprecationWarning: Conversion of an array with ndim > 0 to a scalar is deprecated, and will error in future. Ensure you extract a single element from your array before performing this operation. (Deprecated NumPy 1.25.)\n",
      "  end_sample = int(end_time)\n"
     ]
    },
    {
     "name": "stdout",
     "output_type": "stream",
     "text": [
      "Subject 12 epoched\n",
      "Subject 12 all bands LDA - 0.625\n"
     ]
    },
    {
     "name": "stderr",
     "output_type": "stream",
     "text": [
      "/var/folders/1t/bjxpyljd2576zyjrjv5bnjq40000gn/T/ipykernel_67544/3936134861.py:32: DeprecationWarning: Conversion of an array with ndim > 0 to a scalar is deprecated, and will error in future. Ensure you extract a single element from your array before performing this operation. (Deprecated NumPy 1.25.)\n",
      "  start_sample = int(start_time)\n",
      "/var/folders/1t/bjxpyljd2576zyjrjv5bnjq40000gn/T/ipykernel_67544/3936134861.py:33: DeprecationWarning: Conversion of an array with ndim > 0 to a scalar is deprecated, and will error in future. Ensure you extract a single element from your array before performing this operation. (Deprecated NumPy 1.25.)\n",
      "  end_sample = int(end_time)\n"
     ]
    },
    {
     "name": "stdout",
     "output_type": "stream",
     "text": [
      "Subject 15 epoched\n",
      "Subject 15 all bands LDA - 0.8235294117647058\n"
     ]
    },
    {
     "name": "stderr",
     "output_type": "stream",
     "text": [
      "/var/folders/1t/bjxpyljd2576zyjrjv5bnjq40000gn/T/ipykernel_67544/3936134861.py:32: DeprecationWarning: Conversion of an array with ndim > 0 to a scalar is deprecated, and will error in future. Ensure you extract a single element from your array before performing this operation. (Deprecated NumPy 1.25.)\n",
      "  start_sample = int(start_time)\n",
      "/var/folders/1t/bjxpyljd2576zyjrjv5bnjq40000gn/T/ipykernel_67544/3936134861.py:33: DeprecationWarning: Conversion of an array with ndim > 0 to a scalar is deprecated, and will error in future. Ensure you extract a single element from your array before performing this operation. (Deprecated NumPy 1.25.)\n",
      "  end_sample = int(end_time)\n"
     ]
    },
    {
     "name": "stdout",
     "output_type": "stream",
     "text": [
      "skipped trial\n",
      "skipped trial\n",
      "skipped trial\n",
      "Subject 16 epoched\n",
      "Subject 16 all bands LDA - 0.5714285714285714\n"
     ]
    },
    {
     "name": "stderr",
     "output_type": "stream",
     "text": [
      "/var/folders/1t/bjxpyljd2576zyjrjv5bnjq40000gn/T/ipykernel_67544/3936134861.py:32: DeprecationWarning: Conversion of an array with ndim > 0 to a scalar is deprecated, and will error in future. Ensure you extract a single element from your array before performing this operation. (Deprecated NumPy 1.25.)\n",
      "  start_sample = int(start_time)\n",
      "/var/folders/1t/bjxpyljd2576zyjrjv5bnjq40000gn/T/ipykernel_67544/3936134861.py:33: DeprecationWarning: Conversion of an array with ndim > 0 to a scalar is deprecated, and will error in future. Ensure you extract a single element from your array before performing this operation. (Deprecated NumPy 1.25.)\n",
      "  end_sample = int(end_time)\n"
     ]
    },
    {
     "name": "stdout",
     "output_type": "stream",
     "text": [
      "Subject 17 epoched\n",
      "Subject 17 all bands LDA - 0.8235294117647058\n"
     ]
    },
    {
     "name": "stderr",
     "output_type": "stream",
     "text": [
      "/var/folders/1t/bjxpyljd2576zyjrjv5bnjq40000gn/T/ipykernel_67544/3936134861.py:32: DeprecationWarning: Conversion of an array with ndim > 0 to a scalar is deprecated, and will error in future. Ensure you extract a single element from your array before performing this operation. (Deprecated NumPy 1.25.)\n",
      "  start_sample = int(start_time)\n",
      "/var/folders/1t/bjxpyljd2576zyjrjv5bnjq40000gn/T/ipykernel_67544/3936134861.py:33: DeprecationWarning: Conversion of an array with ndim > 0 to a scalar is deprecated, and will error in future. Ensure you extract a single element from your array before performing this operation. (Deprecated NumPy 1.25.)\n",
      "  end_sample = int(end_time)\n"
     ]
    },
    {
     "name": "stdout",
     "output_type": "stream",
     "text": [
      "skipped trial\n",
      "skipped trial\n",
      "skipped trial\n",
      "skipped trial\n",
      "skipped trial\n",
      "Subject 18 epoched\n",
      "Subject 18 all bands LDA - 0.6842105263157895\n"
     ]
    },
    {
     "name": "stderr",
     "output_type": "stream",
     "text": [
      "/var/folders/1t/bjxpyljd2576zyjrjv5bnjq40000gn/T/ipykernel_67544/3936134861.py:32: DeprecationWarning: Conversion of an array with ndim > 0 to a scalar is deprecated, and will error in future. Ensure you extract a single element from your array before performing this operation. (Deprecated NumPy 1.25.)\n",
      "  start_sample = int(start_time)\n",
      "/var/folders/1t/bjxpyljd2576zyjrjv5bnjq40000gn/T/ipykernel_67544/3936134861.py:33: DeprecationWarning: Conversion of an array with ndim > 0 to a scalar is deprecated, and will error in future. Ensure you extract a single element from your array before performing this operation. (Deprecated NumPy 1.25.)\n",
      "  end_sample = int(end_time)\n"
     ]
    },
    {
     "name": "stdout",
     "output_type": "stream",
     "text": [
      "skipped trial\n",
      "Subject 19 epoched\n",
      "Subject 19 all bands LDA - 0.7391304347826086\n"
     ]
    },
    {
     "name": "stderr",
     "output_type": "stream",
     "text": [
      "/var/folders/1t/bjxpyljd2576zyjrjv5bnjq40000gn/T/ipykernel_67544/3936134861.py:32: DeprecationWarning: Conversion of an array with ndim > 0 to a scalar is deprecated, and will error in future. Ensure you extract a single element from your array before performing this operation. (Deprecated NumPy 1.25.)\n",
      "  start_sample = int(start_time)\n",
      "/var/folders/1t/bjxpyljd2576zyjrjv5bnjq40000gn/T/ipykernel_67544/3936134861.py:33: DeprecationWarning: Conversion of an array with ndim > 0 to a scalar is deprecated, and will error in future. Ensure you extract a single element from your array before performing this operation. (Deprecated NumPy 1.25.)\n",
      "  end_sample = int(end_time)\n"
     ]
    },
    {
     "name": "stdout",
     "output_type": "stream",
     "text": [
      "skipped trial\n",
      "Subject 20 epoched\n",
      "Subject 20 all bands LDA - 0.6086956521739131\n"
     ]
    },
    {
     "data": {
      "image/png": "[encoded data removed]",
      "text/plain": [
       "<Figure size 1000x600 with 1 Axes>"
      ]
     },
     "metadata": {},
     "output_type": "display_data"
    }
   ],
   "source": [
    "## DOWNSAMPLE 5\n",
    "\n",
    "all_results = processAllSubjs(downsample_rate=5)\n",
    "results_avg = getAvgAllSubjs(all_results)\n",
    "plot_results(results_avg)"
   ]
  },
  {
   "cell_type": "code",
   "execution_count": 50,
   "id": "416c9bc3-7844-4bf9-beda-cbbd8d67730b",
   "metadata": {
    "scrolled": true
   },
   "outputs": [
    {
     "name": "stderr",
     "output_type": "stream",
     "text": [
      "/var/folders/1t/bjxpyljd2576zyjrjv5bnjq40000gn/T/ipykernel_67544/3936134861.py:32: DeprecationWarning: Conversion of an array with ndim > 0 to a scalar is deprecated, and will error in future. Ensure you extract a single element from your array before performing this operation. (Deprecated NumPy 1.25.)\n",
      "  start_sample = int(start_time)\n",
      "/var/folders/1t/bjxpyljd2576zyjrjv5bnjq40000gn/T/ipykernel_67544/3936134861.py:33: DeprecationWarning: Conversion of an array with ndim > 0 to a scalar is deprecated, and will error in future. Ensure you extract a single element from your array before performing this operation. (Deprecated NumPy 1.25.)\n",
      "  end_sample = int(end_time)\n"
     ]
    },
    {
     "name": "stdout",
     "output_type": "stream",
     "text": [
      "Subject 01 epoched\n",
      "Subject 01 all bands LDA - 0.9166666666666666\n"
     ]
    },
    {
     "name": "stderr",
     "output_type": "stream",
     "text": [
      "/var/folders/1t/bjxpyljd2576zyjrjv5bnjq40000gn/T/ipykernel_67544/3936134861.py:32: DeprecationWarning: Conversion of an array with ndim > 0 to a scalar is deprecated, and will error in future. Ensure you extract a single element from your array before performing this operation. (Deprecated NumPy 1.25.)\n",
      "  start_sample = int(start_time)\n",
      "/var/folders/1t/bjxpyljd2576zyjrjv5bnjq40000gn/T/ipykernel_67544/3936134861.py:33: DeprecationWarning: Conversion of an array with ndim > 0 to a scalar is deprecated, and will error in future. Ensure you extract a single element from your array before performing this operation. (Deprecated NumPy 1.25.)\n",
      "  end_sample = int(end_time)\n"
     ]
    },
    {
     "name": "stdout",
     "output_type": "stream",
     "text": [
      "Subject 02 epoched\n",
      "Subject 02 all bands LDA - 0.375\n"
     ]
    },
    {
     "name": "stderr",
     "output_type": "stream",
     "text": [
      "/var/folders/1t/bjxpyljd2576zyjrjv5bnjq40000gn/T/ipykernel_67544/3936134861.py:32: DeprecationWarning: Conversion of an array with ndim > 0 to a scalar is deprecated, and will error in future. Ensure you extract a single element from your array before performing this operation. (Deprecated NumPy 1.25.)\n",
      "  start_sample = int(start_time)\n",
      "/var/folders/1t/bjxpyljd2576zyjrjv5bnjq40000gn/T/ipykernel_67544/3936134861.py:33: DeprecationWarning: Conversion of an array with ndim > 0 to a scalar is deprecated, and will error in future. Ensure you extract a single element from your array before performing this operation. (Deprecated NumPy 1.25.)\n",
      "  end_sample = int(end_time)\n"
     ]
    },
    {
     "name": "stdout",
     "output_type": "stream",
     "text": [
      "skipped trial\n",
      "skipped trial\n",
      "Subject 03 epoched\n",
      "Subject 03 all bands LDA - 0.5454545454545454\n"
     ]
    },
    {
     "name": "stderr",
     "output_type": "stream",
     "text": [
      "/var/folders/1t/bjxpyljd2576zyjrjv5bnjq40000gn/T/ipykernel_67544/3936134861.py:32: DeprecationWarning: Conversion of an array with ndim > 0 to a scalar is deprecated, and will error in future. Ensure you extract a single element from your array before performing this operation. (Deprecated NumPy 1.25.)\n",
      "  start_sample = int(start_time)\n",
      "/var/folders/1t/bjxpyljd2576zyjrjv5bnjq40000gn/T/ipykernel_67544/3936134861.py:33: DeprecationWarning: Conversion of an array with ndim > 0 to a scalar is deprecated, and will error in future. Ensure you extract a single element from your array before performing this operation. (Deprecated NumPy 1.25.)\n",
      "  end_sample = int(end_time)\n"
     ]
    },
    {
     "name": "stdout",
     "output_type": "stream",
     "text": [
      "skipped trial\n",
      "skipped trial\n",
      "skipped trial\n",
      "skipped trial\n",
      "skipped trial\n",
      "skipped trial\n",
      "skipped trial\n",
      "skipped trial\n",
      "Subject 05 epoched\n",
      "Subject 05 all bands LDA - 0.8\n"
     ]
    },
    {
     "name": "stderr",
     "output_type": "stream",
     "text": [
      "/var/folders/1t/bjxpyljd2576zyjrjv5bnjq40000gn/T/ipykernel_67544/3936134861.py:32: DeprecationWarning: Conversion of an array with ndim > 0 to a scalar is deprecated, and will error in future. Ensure you extract a single element from your array before performing this operation. (Deprecated NumPy 1.25.)\n",
      "  start_sample = int(start_time)\n",
      "/var/folders/1t/bjxpyljd2576zyjrjv5bnjq40000gn/T/ipykernel_67544/3936134861.py:33: DeprecationWarning: Conversion of an array with ndim > 0 to a scalar is deprecated, and will error in future. Ensure you extract a single element from your array before performing this operation. (Deprecated NumPy 1.25.)\n",
      "  end_sample = int(end_time)\n"
     ]
    },
    {
     "name": "stdout",
     "output_type": "stream",
     "text": [
      "Subject 06 epoched\n",
      "Subject 06 all bands LDA - 0.4782608695652174\n"
     ]
    },
    {
     "name": "stderr",
     "output_type": "stream",
     "text": [
      "/var/folders/1t/bjxpyljd2576zyjrjv5bnjq40000gn/T/ipykernel_67544/3936134861.py:32: DeprecationWarning: Conversion of an array with ndim > 0 to a scalar is deprecated, and will error in future. Ensure you extract a single element from your array before performing this operation. (Deprecated NumPy 1.25.)\n",
      "  start_sample = int(start_time)\n",
      "/var/folders/1t/bjxpyljd2576zyjrjv5bnjq40000gn/T/ipykernel_67544/3936134861.py:33: DeprecationWarning: Conversion of an array with ndim > 0 to a scalar is deprecated, and will error in future. Ensure you extract a single element from your array before performing this operation. (Deprecated NumPy 1.25.)\n",
      "  end_sample = int(end_time)\n"
     ]
    },
    {
     "name": "stdout",
     "output_type": "stream",
     "text": [
      "skipped trial\n",
      "Subject 08 epoched\n",
      "Subject 08 all bands LDA - 0.6521739130434783\n"
     ]
    },
    {
     "name": "stderr",
     "output_type": "stream",
     "text": [
      "/var/folders/1t/bjxpyljd2576zyjrjv5bnjq40000gn/T/ipykernel_67544/3936134861.py:32: DeprecationWarning: Conversion of an array with ndim > 0 to a scalar is deprecated, and will error in future. Ensure you extract a single element from your array before performing this operation. (Deprecated NumPy 1.25.)\n",
      "  start_sample = int(start_time)\n",
      "/var/folders/1t/bjxpyljd2576zyjrjv5bnjq40000gn/T/ipykernel_67544/3936134861.py:33: DeprecationWarning: Conversion of an array with ndim > 0 to a scalar is deprecated, and will error in future. Ensure you extract a single element from your array before performing this operation. (Deprecated NumPy 1.25.)\n",
      "  end_sample = int(end_time)\n"
     ]
    },
    {
     "name": "stdout",
     "output_type": "stream",
     "text": [
      "skipped trial\n",
      "Subject 09 epoched\n",
      "Subject 09 all bands LDA - 0.5652173913043478\n"
     ]
    },
    {
     "name": "stderr",
     "output_type": "stream",
     "text": [
      "/var/folders/1t/bjxpyljd2576zyjrjv5bnjq40000gn/T/ipykernel_67544/3936134861.py:32: DeprecationWarning: Conversion of an array with ndim > 0 to a scalar is deprecated, and will error in future. Ensure you extract a single element from your array before performing this operation. (Deprecated NumPy 1.25.)\n",
      "  start_sample = int(start_time)\n",
      "/var/folders/1t/bjxpyljd2576zyjrjv5bnjq40000gn/T/ipykernel_67544/3936134861.py:33: DeprecationWarning: Conversion of an array with ndim > 0 to a scalar is deprecated, and will error in future. Ensure you extract a single element from your array before performing this operation. (Deprecated NumPy 1.25.)\n",
      "  end_sample = int(end_time)\n"
     ]
    },
    {
     "name": "stdout",
     "output_type": "stream",
     "text": [
      "Subject 10 epoched\n",
      "Subject 10 all bands LDA - 0.75\n"
     ]
    },
    {
     "name": "stderr",
     "output_type": "stream",
     "text": [
      "/var/folders/1t/bjxpyljd2576zyjrjv5bnjq40000gn/T/ipykernel_67544/3936134861.py:32: DeprecationWarning: Conversion of an array with ndim > 0 to a scalar is deprecated, and will error in future. Ensure you extract a single element from your array before performing this operation. (Deprecated NumPy 1.25.)\n",
      "  start_sample = int(start_time)\n",
      "/var/folders/1t/bjxpyljd2576zyjrjv5bnjq40000gn/T/ipykernel_67544/3936134861.py:33: DeprecationWarning: Conversion of an array with ndim > 0 to a scalar is deprecated, and will error in future. Ensure you extract a single element from your array before performing this operation. (Deprecated NumPy 1.25.)\n",
      "  end_sample = int(end_time)\n"
     ]
    },
    {
     "name": "stdout",
     "output_type": "stream",
     "text": [
      "skipped trial\n",
      "Subject 11 epoched\n",
      "Subject 11 all bands LDA - 0.4782608695652174\n"
     ]
    },
    {
     "name": "stderr",
     "output_type": "stream",
     "text": [
      "/var/folders/1t/bjxpyljd2576zyjrjv5bnjq40000gn/T/ipykernel_67544/3936134861.py:32: DeprecationWarning: Conversion of an array with ndim > 0 to a scalar is deprecated, and will error in future. Ensure you extract a single element from your array before performing this operation. (Deprecated NumPy 1.25.)\n",
      "  start_sample = int(start_time)\n",
      "/var/folders/1t/bjxpyljd2576zyjrjv5bnjq40000gn/T/ipykernel_67544/3936134861.py:33: DeprecationWarning: Conversion of an array with ndim > 0 to a scalar is deprecated, and will error in future. Ensure you extract a single element from your array before performing this operation. (Deprecated NumPy 1.25.)\n",
      "  end_sample = int(end_time)\n"
     ]
    },
    {
     "name": "stdout",
     "output_type": "stream",
     "text": [
      "Subject 12 epoched\n",
      "Subject 12 all bands LDA - 0.75\n"
     ]
    },
    {
     "name": "stderr",
     "output_type": "stream",
     "text": [
      "/var/folders/1t/bjxpyljd2576zyjrjv5bnjq40000gn/T/ipykernel_67544/3936134861.py:32: DeprecationWarning: Conversion of an array with ndim > 0 to a scalar is deprecated, and will error in future. Ensure you extract a single element from your array before performing this operation. (Deprecated NumPy 1.25.)\n",
      "  start_sample = int(start_time)\n",
      "/var/folders/1t/bjxpyljd2576zyjrjv5bnjq40000gn/T/ipykernel_67544/3936134861.py:33: DeprecationWarning: Conversion of an array with ndim > 0 to a scalar is deprecated, and will error in future. Ensure you extract a single element from your array before performing this operation. (Deprecated NumPy 1.25.)\n",
      "  end_sample = int(end_time)\n"
     ]
    },
    {
     "name": "stdout",
     "output_type": "stream",
     "text": [
      "Subject 15 epoched\n",
      "Subject 15 all bands LDA - 0.8235294117647058\n"
     ]
    },
    {
     "name": "stderr",
     "output_type": "stream",
     "text": [
      "/var/folders/1t/bjxpyljd2576zyjrjv5bnjq40000gn/T/ipykernel_67544/3936134861.py:32: DeprecationWarning: Conversion of an array with ndim > 0 to a scalar is deprecated, and will error in future. Ensure you extract a single element from your array before performing this operation. (Deprecated NumPy 1.25.)\n",
      "  start_sample = int(start_time)\n",
      "/var/folders/1t/bjxpyljd2576zyjrjv5bnjq40000gn/T/ipykernel_67544/3936134861.py:33: DeprecationWarning: Conversion of an array with ndim > 0 to a scalar is deprecated, and will error in future. Ensure you extract a single element from your array before performing this operation. (Deprecated NumPy 1.25.)\n",
      "  end_sample = int(end_time)\n"
     ]
    },
    {
     "name": "stdout",
     "output_type": "stream",
     "text": [
      "skipped trial\n",
      "skipped trial\n",
      "skipped trial\n",
      "Subject 16 epoched\n",
      "Subject 16 all bands LDA - 0.7857142857142857\n"
     ]
    },
    {
     "name": "stderr",
     "output_type": "stream",
     "text": [
      "/var/folders/1t/bjxpyljd2576zyjrjv5bnjq40000gn/T/ipykernel_67544/3936134861.py:32: DeprecationWarning: Conversion of an array with ndim > 0 to a scalar is deprecated, and will error in future. Ensure you extract a single element from your array before performing this operation. (Deprecated NumPy 1.25.)\n",
      "  start_sample = int(start_time)\n",
      "/var/folders/1t/bjxpyljd2576zyjrjv5bnjq40000gn/T/ipykernel_67544/3936134861.py:33: DeprecationWarning: Conversion of an array with ndim > 0 to a scalar is deprecated, and will error in future. Ensure you extract a single element from your array before performing this operation. (Deprecated NumPy 1.25.)\n",
      "  end_sample = int(end_time)\n"
     ]
    },
    {
     "name": "stdout",
     "output_type": "stream",
     "text": [
      "Subject 17 epoched\n",
      "Subject 17 all bands LDA - 0.8235294117647058\n"
     ]
    },
    {
     "name": "stderr",
     "output_type": "stream",
     "text": [
      "/var/folders/1t/bjxpyljd2576zyjrjv5bnjq40000gn/T/ipykernel_67544/3936134861.py:32: DeprecationWarning: Conversion of an array with ndim > 0 to a scalar is deprecated, and will error in future. Ensure you extract a single element from your array before performing this operation. (Deprecated NumPy 1.25.)\n",
      "  start_sample = int(start_time)\n",
      "/var/folders/1t/bjxpyljd2576zyjrjv5bnjq40000gn/T/ipykernel_67544/3936134861.py:33: DeprecationWarning: Conversion of an array with ndim > 0 to a scalar is deprecated, and will error in future. Ensure you extract a single element from your array before performing this operation. (Deprecated NumPy 1.25.)\n",
      "  end_sample = int(end_time)\n"
     ]
    },
    {
     "name": "stdout",
     "output_type": "stream",
     "text": [
      "skipped trial\n",
      "skipped trial\n",
      "skipped trial\n",
      "skipped trial\n",
      "skipped trial\n",
      "Subject 18 epoched\n",
      "Subject 18 all bands LDA - 0.47368421052631576\n"
     ]
    },
    {
     "name": "stderr",
     "output_type": "stream",
     "text": [
      "/var/folders/1t/bjxpyljd2576zyjrjv5bnjq40000gn/T/ipykernel_67544/3936134861.py:32: DeprecationWarning: Conversion of an array with ndim > 0 to a scalar is deprecated, and will error in future. Ensure you extract a single element from your array before performing this operation. (Deprecated NumPy 1.25.)\n",
      "  start_sample = int(start_time)\n",
      "/var/folders/1t/bjxpyljd2576zyjrjv5bnjq40000gn/T/ipykernel_67544/3936134861.py:33: DeprecationWarning: Conversion of an array with ndim > 0 to a scalar is deprecated, and will error in future. Ensure you extract a single element from your array before performing this operation. (Deprecated NumPy 1.25.)\n",
      "  end_sample = int(end_time)\n"
     ]
    },
    {
     "name": "stdout",
     "output_type": "stream",
     "text": [
      "skipped trial\n",
      "Subject 19 epoched\n",
      "Subject 19 all bands LDA - 0.43478260869565216\n"
     ]
    },
    {
     "name": "stderr",
     "output_type": "stream",
     "text": [
      "/var/folders/1t/bjxpyljd2576zyjrjv5bnjq40000gn/T/ipykernel_67544/3936134861.py:32: DeprecationWarning: Conversion of an array with ndim > 0 to a scalar is deprecated, and will error in future. Ensure you extract a single element from your array before performing this operation. (Deprecated NumPy 1.25.)\n",
      "  start_sample = int(start_time)\n",
      "/var/folders/1t/bjxpyljd2576zyjrjv5bnjq40000gn/T/ipykernel_67544/3936134861.py:33: DeprecationWarning: Conversion of an array with ndim > 0 to a scalar is deprecated, and will error in future. Ensure you extract a single element from your array before performing this operation. (Deprecated NumPy 1.25.)\n",
      "  end_sample = int(end_time)\n"
     ]
    },
    {
     "name": "stdout",
     "output_type": "stream",
     "text": [
      "skipped trial\n",
      "Subject 20 epoched\n",
      "Subject 20 all bands LDA - 0.6521739130434783\n"
     ]
    },
    {
     "data": {
      "image/png": "[encoded data removed]",
      "text/plain": [
       "<Figure size 1000x600 with 1 Axes>"
      ]
     },
     "metadata": {},
     "output_type": "display_data"
    }
   ],
   "source": [
    "## DOWNSAMPLE 10\n",
    "\n",
    "all_results = processAllSubjs(downsample_rate=10)\n",
    "results_avg = getAvgAllSubjs(all_results)\n",
    "plot_results(results_avg)"
   ]
  },
  {
   "cell_type": "code",
   "execution_count": null,
   "id": "3a90f184-ddc5-471a-992c-42da6a75fa28",
   "metadata": {},
   "outputs": [],
   "source": []
  },
  {
   "cell_type": "code",
   "execution_count": null,
   "id": "09c2e073-f3f7-45e4-8b74-b888f6d0a5f0",
   "metadata": {},
   "outputs": [],
   "source": []
  },
  {
   "cell_type": "code",
   "execution_count": null,
   "id": "7006a205-b991-4783-8461-372a75e36333",
   "metadata": {},
   "outputs": [],
   "source": []
  },
  {
   "cell_type": "code",
   "execution_count": null,
   "id": "ee241f0a-db55-4117-a92d-21244839460f",
   "metadata": {},
   "outputs": [],
   "source": []
  },
  {
   "cell_type": "code",
   "execution_count": null,
   "id": "38a65e22-6863-443a-befd-87fc9c923420",
   "metadata": {},
   "outputs": [],
   "source": []
  }
 ],
 "metadata": {
  "kernelspec": {
   "display_name": "Python 3 (ipykernel)",
   "language": "python",
   "name": "python3"
  },
  "language_info": {
   "codemirror_mode": {
    "name": "ipython",
    "version": 3
   },
   "file_extension": ".py",
   "mimetype": "text/x-python",
   "name": "python",
   "nbconvert_exporter": "python",
   "pygments_lexer": "ipython3",
   "version": "3.12.7"
  }
 },
 "nbformat": 4,
 "nbformat_minor": 5
}
