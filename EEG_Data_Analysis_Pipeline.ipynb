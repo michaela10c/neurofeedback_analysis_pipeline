{
 "cells": [
  {
   "cell_type": "code",
   "execution_count": 108,
   "id": "c3606bdf-ef8b-4050-a22b-467d6db79f56",
   "metadata": {},
   "outputs": [],
   "source": [
    "import h5py\n",
    "import numpy as np\n",
    "from scipy.signal import butter, filtfilt\n",
    "\n",
    "from sklearn.model_selection import LeaveOneOut\n",
    "from sklearn.discriminant_analysis import LinearDiscriminantAnalysis\n",
    "from sklearn.svm import SVC\n",
    "from sklearn.linear_model import LogisticRegression\n",
    "from sklearn.metrics import accuracy_score\n",
    "\n",
    "import matplotlib.pyplot as plt"
   ]
  },
  {
   "cell_type": "markdown",
   "id": "354e7f87-0c5b-44f5-9957-7ba41bdb89e8",
   "metadata": {},
   "source": [
    "### Define Initial Parameters"
   ]
  },
  {
   "cell_type": "code",
   "execution_count": 72,
   "id": "3abe5fc1-b994-40e4-ac9e-b3dc57536056",
   "metadata": {},
   "outputs": [],
   "source": [
    "# TODO: Generalize within multiple subjects\n",
    "file_path = 'Faller_et_al_2019_PNAS_EEG_Neurofeedback_VR_Flight/S01_F_CL_Sil_50_100.mat'\n",
    "sampling_rate = 256 # Hz"
   ]
  },
  {
   "cell_type": "markdown",
   "id": "1309fd0a-6c55-4217-af37-9658bac83bc2",
   "metadata": {},
   "source": [
    "### 1. Extract Trials (Epoching)\n",
    "\n",
    "Given a raw data file (within-subject data), extract the 12 easy and 12 hard trials for the subject. \n",
    "\n",
    "In short, extract the first 30 seconds of the easy trials data, and the last 30 seconds of the hard trials data.\n",
    "\n",
    "We should obtain two arrays, one for easy trials and one for hard trials, each with shape `(n_trials=12, n_channels=64, n_features=t_seconds * sampling_rate=30*256)`"
   ]
  },
  {
   "cell_type": "code",
   "execution_count": 67,
   "id": "6f51942b-fa97-4a47-af6d-482925bfb2c5",
   "metadata": {},
   "outputs": [],
   "source": [
    "def extract_trials(filepath, sampling_frequency = 256, sample_duration = 30):\n",
    "    with h5py.File(filepath, 'r') as f:  \n",
    "        raw_eeg_data = np.array(f['actualVariable']['EEG_full']['data']).T[:64]\n",
    "        events = f['actualVariable']['EEG_full']['event']\n",
    "        event_labels = []\n",
    "        \n",
    "        for i in range(len(events['type'])):\n",
    "            event_type_ref = events['type'][i][0]\n",
    "            event_latency_ref = events['latency'][i][0]\n",
    "            \n",
    "            event_type = ''.join(chr(x) for x in f[event_type_ref][:].flatten())\n",
    "            event_latency = f[event_latency_ref][()][0]\n",
    "            event_labels.append((event_type, event_latency))\n",
    "    \n",
    "        easy_data_list = []\n",
    "        hard_data_list = []\n",
    "        \n",
    "        trial_starts = []\n",
    "        trial_ends = []\n",
    "        \n",
    "        for event, time in event_labels:\n",
    "            if event == \"START-F_CL_Sil_50_100\":\n",
    "                trial_starts.append(time)\n",
    "            elif event == \"boundary\":\n",
    "                trial_ends.append(time)\n",
    "        trial_ends.append(event_labels[-1][1])\n",
    "        \n",
    "        num_trials = len(trial_starts)\n",
    "        for trial_idx in range(num_trials):\n",
    "            start_time = trial_starts[trial_idx]\n",
    "            end_time = trial_ends[trial_idx]\n",
    "            start_sample = int(start_time)\n",
    "            end_sample = int(end_time)\n",
    "            \n",
    "            trial_data = raw_eeg_data[:, start_sample:end_sample]\n",
    "            trial_duration = end_time - start_time\n",
    "            num_samples_in_trial = trial_data.shape[1]\n",
    "            \n",
    "            if trial_idx % 2 == 0:\n",
    "                data_segment = trial_data[:, :sample_duration*sampling_frequency]\n",
    "                easy_data_list.append(data_segment)\n",
    "            else:\n",
    "                data_segment = trial_data[:, -sample_duration*sampling_frequency:]\n",
    "                hard_data_list.append(data_segment)\n",
    "    \n",
    "        easy_data_array = np.array(easy_data_list)  # Shape: (n_trials=12, n_channels=64, n_features=t_seconds * sampling_rate=30*256)\n",
    "        hard_data_array = np.array(hard_data_list)  # Shape: (n_trials=12, n_channels=64, n_features=t_seconds * sampling_rate=30*256)\n",
    "    return easy_data_array, hard_data_array"
   ]
  },
  {
   "cell_type": "code",
   "execution_count": 68,
   "id": "ae814d0a-6526-467c-a231-d17bb4f217f9",
   "metadata": {},
   "outputs": [],
   "source": [
    "easy_trials, hard_trials = extract_trials(file_path)"
   ]
  },
  {
   "cell_type": "code",
   "execution_count": 69,
   "id": "945ef4d4-e755-409e-b6d8-fb0907f5039d",
   "metadata": {},
   "outputs": [
    {
     "data": {
      "text/plain": [
       "((12, 64, 7680), (12, 64, 7680))"
      ]
     },
     "execution_count": 69,
     "metadata": {},
     "output_type": "execute_result"
    }
   ],
   "source": [
    "easy_trials.shape, hard_trials.shape"
   ]
  },
  {
   "cell_type": "markdown",
   "id": "3fea43b7-d1b2-4bcc-b39f-b7f902db026a",
   "metadata": {},
   "source": [
    "### 2. Extract Features Per Electrode/Channel\n",
    "\n",
    "Extract the **delta (0.5 - 4 Hz), theta (4 - 8 Hz), alpha (8 - 12 Hz), beta (12 - 25 Hz), and gamma (25 - 100 Hz)** frequency bands per channel. \n",
    "\n",
    "Each frequency band is extracted using a **4th-order Butterworth filter**, bandlimited on the specified frequencies. "
   ]
  },
  {
   "cell_type": "code",
   "execution_count": 73,
   "id": "ae218565-be38-47c8-a24a-fb12567356d1",
   "metadata": {},
   "outputs": [
    {
     "name": "stdout",
     "output_type": "stream",
     "text": [
      "Delta Band - Easy trials: (12, 64, 7680), Hard trials: (12, 64, 7680)\n",
      "Theta Band - Easy trials: (12, 64, 7680), Hard trials: (12, 64, 7680)\n",
      "Alpha Band - Easy trials: (12, 64, 7680), Hard trials: (12, 64, 7680)\n",
      "Beta Band - Easy trials: (12, 64, 7680), Hard trials: (12, 64, 7680)\n",
      "Gamma Band - Easy trials: (12, 64, 7680), Hard trials: (12, 64, 7680)\n"
     ]
    }
   ],
   "source": [
    "# Define the bandpass filter\n",
    "def bandpass_filter(data, low_freq, high_freq, sampling_rate):\n",
    "    nyquist = 0.5 * sampling_rate  # Nyquist frequency\n",
    "    low = low_freq / nyquist\n",
    "    high = high_freq / nyquist\n",
    "    b, a = butter(4, Wn=[low, high], btype='band')  # 4th order Butterworth bandpass filter\n",
    "    filtered_data = filtfilt(b, a, data, axis=1)  # Apply the filter along the time axis\n",
    "    return filtered_data\n",
    "\n",
    "# Define frequency bands\n",
    "frequency_bands = {\n",
    "    \"Delta\": (0.5, 4),\n",
    "    \"Theta\": (4, 8),\n",
    "    \"Alpha\": (8, 12),\n",
    "    \"Beta\": (12, 25),\n",
    "    \"Gamma\": (25, 100)\n",
    "}\n",
    "\n",
    "# Filter trials for each band\n",
    "band_data = {}\n",
    "for band, (low_freq, high_freq) in frequency_bands.items():\n",
    "    easy_filtered = bandpass_filter(easy_trials, low_freq, high_freq, sampling_rate)\n",
    "    hard_filtered = bandpass_filter(hard_trials, low_freq, high_freq, sampling_rate)\n",
    "    band_data[band] = {\n",
    "        \"Easy\": easy_filtered,  # Shape: (n_trials, n_channels, n_features)\n",
    "        \"Hard\": hard_filtered   # Shape: (n_trials, n_channels, n_features)\n",
    "    }\n",
    "\n",
    "# Output shapes\n",
    "for band, data in band_data.items():\n",
    "    print(f\"{band} Band - Easy trials: {data['Easy'].shape}, Hard trials: {data['Hard'].shape}\")"
   ]
  },
  {
   "cell_type": "code",
   "execution_count": 75,
   "id": "98886caf-33f6-499f-8f17-42e81851c7b8",
   "metadata": {},
   "outputs": [],
   "source": [
    "# Example: Access Delta band data for Easy trials\n",
    "delta_easy_trials = band_data[\"Delta\"][\"Easy\"]\n",
    "delta_hard_trials = band_data[\"Delta\"][\"Hard\"]"
   ]
  },
  {
   "cell_type": "markdown",
   "id": "fcb94690-c2e2-4864-a84a-b3ec53c9cdf1",
   "metadata": {},
   "source": [
    "### 3. Train Classifiers\n",
    "\n",
    "Prepare data for **all 5 bands together** AND **individually**. Train classifiers on them separately. "
   ]
  },
  {
   "cell_type": "markdown",
   "id": "391d18f9-2394-413a-8261-65d79e16ffcb",
   "metadata": {},
   "source": [
    "#### 3.1 Prepare Data \n",
    "\n",
    "The **labels** correspond to the **difficulty level** of each trial:\n",
    "- `0` (**Easy Trials**): Tasks with lower difficulty (less challenging flight paths)\n",
    "- `1` (**Hard Trials**): Tasks with higher difficulty (more challenging flight paths)\n",
    "\n",
    "EEG data is divided into trials for **Easy** and **Hard** conditions. Each trial contains 64 EEG channels, along with a sequence of sampled EEG data points (7680 samples for a 30-second trial at 256 Hz). \n",
    "\n",
    "The data is processed in two ways:\n",
    "- **All Bands Combined**: Features from all frequency bands are concatenated for each trial to create a comprehensive feature set.\n",
    "- **Individual Bands**: Features from each frequency band are prepared separately for analysis."
   ]
  },
  {
   "cell_type": "code",
   "execution_count": 101,
   "id": "aecaaae2-65df-4d5b-9e2e-c7c2942d1117",
   "metadata": {},
   "outputs": [],
   "source": [
    "# Prepare data for all bands together\n",
    "def prepare_all_bands_data(band_data):\n",
    "    X = []\n",
    "    y = []\n",
    "    for label, condition in enumerate([\"Easy\", \"Hard\"]):  # 0 for Easy, 1 for Hard\n",
    "        trials = [band_data[band][condition] for band in frequency_bands.keys()]\n",
    "        for trial_idx in range(trials[0].shape[0]):  # Iterate over trials\n",
    "            # Concatenate features from all bands\n",
    "            feature_vector = []\n",
    "            for band_trials in trials:\n",
    "                trial = band_trials[trial_idx]  # Shape: (n_channels, n_features)\n",
    "                \n",
    "                # Compute features (mean and std across channels)\n",
    "                mean_features = np.mean(trial, axis=1)  # Mean across time for each channel\n",
    "                std_features = np.std(trial, axis=1)    # Std across time for each channel\n",
    "                band_features = np.concatenate([mean_features, std_features])  # Combine features\n",
    "                feature_vector.extend(band_features)\n",
    "            X.append(feature_vector)\n",
    "            y.append(label)\n",
    "    return np.array(X), np.array(y)\n",
    "\n",
    "# Prepare data for all bands combined\n",
    "X_all_bands, y_all_bands = prepare_all_bands_data(band_data)"
   ]
  },
  {
   "cell_type": "code",
   "execution_count": 102,
   "id": "4fd8f12a-d14b-4454-93f8-fdba0d6d3780",
   "metadata": {},
   "outputs": [],
   "source": [
    "# Prepare data for a single band\n",
    "def prepare_single_band_data(band_name, band_data):\n",
    "    X = []\n",
    "    y = []\n",
    "    for label, condition in enumerate([\"Easy\", \"Hard\"]):  # 0 for Easy, 1 for Hard\n",
    "        trials = band_data[band_name][condition]\n",
    "        for trial in trials:  # Shape: (n_channels, n_features)\n",
    "            # Compute features (mean and std across channels)\n",
    "            mean_features = np.mean(trial, axis=1)  # Mean across time for each channel\n",
    "            std_features = np.std(trial, axis=1)    # Std across time for each channel\n",
    "            feature_vector = np.concatenate([mean_features, std_features])  # Combine features\n",
    "            X.append(feature_vector)\n",
    "            y.append(label)\n",
    "    return np.array(X), np.array(y)\n",
    "\n",
    "# Prepare data for individual bands\n",
    "X_individual_bands = {}\n",
    "y_individual_bands = {}\n",
    "for band in frequency_bands.keys():\n",
    "    X, y = prepare_single_band_data(band, band_data)\n",
    "    X_individual_bands[band] = X\n",
    "    y_individual_bands[band] = y"
   ]
  },
  {
   "cell_type": "code",
   "execution_count": 103,
   "id": "969a8636-4678-481c-bd47-63a1fa19668b",
   "metadata": {},
   "outputs": [
    {
     "name": "stdout",
     "output_type": "stream",
     "text": [
      "All Bands Combined: (24, 640)\n",
      "Delta Band: (24, 128)\n",
      "Theta Band: (24, 128)\n",
      "Alpha Band: (24, 128)\n",
      "Beta Band: (24, 128)\n",
      "Gamma Band: (24, 128)\n"
     ]
    }
   ],
   "source": [
    "# Print shapes for verification\n",
    "print(f\"All Bands Combined: {X_all_bands.shape}\")\n",
    "for band, X in X_individual_bands.items():\n",
    "    print(f\"{band} Band: {X.shape}\")"
   ]
  },
  {
   "cell_type": "code",
   "execution_count": 104,
   "id": "3e171ca9-8e71-411c-b1eb-a2b76a1ac775",
   "metadata": {},
   "outputs": [],
   "source": [
    "# Concatenate all bands data with individual bands' data for evaluation\n",
    "X_datasets = {\"All Bands\": (X_all_bands, y_all_bands)}\n",
    "for band, X in X_individual_bands.items():\n",
    "    X_datasets[band] = (X, y_individual_bands[band])"
   ]
  },
  {
   "cell_type": "markdown",
   "id": "be15309d-eac8-4c01-a4a4-73914d1d434a",
   "metadata": {},
   "source": [
    "#### 3.2 Train & Evaluate Classifiers\n",
    "\n",
    "Train and Evaluate the results trained on:\n",
    "- **Linear Discriminant Analysis (LDA)**\n",
    "- **Support Vector Machines (SVM)**\n",
    "- **Logistic Regression**\n",
    "\n",
    "Use **Leave-One-Out Cross-Validation (LOOCV) accuracy** on the 12 epoched trials for evaluation. \n",
    "\n",
    "Plot the results for **all frequency bands** and **each individual frequency band**. "
   ]
  },
  {
   "cell_type": "code",
   "execution_count": 98,
   "id": "c63692af-1a42-4c37-814c-e11ea231dd00",
   "metadata": {},
   "outputs": [],
   "source": [
    "# Function to train and evaluate a classifier using LOOCV\n",
    "def train_evaluate_classifier(classifier, X, y):\n",
    "    loo = LeaveOneOut()\n",
    "    y_true = []\n",
    "    y_pred = []\n",
    "\n",
    "    for train_index, test_index in loo.split(X):\n",
    "        X_train, X_test = X[train_index], X[test_index]\n",
    "        y_train, y_test = y[train_index], y[test_index]\n",
    "\n",
    "        # Train the classifier\n",
    "        classifier.fit(X_train, y_train)\n",
    "\n",
    "        # Predict on the test set\n",
    "        y_pred.append(classifier.predict(X_test)[0])\n",
    "        y_true.append(y_test[0])\n",
    "\n",
    "    # Compute accuracy\n",
    "    accuracy = accuracy_score(y_true, y_pred)\n",
    "    return accuracy"
   ]
  },
  {
   "cell_type": "code",
   "execution_count": 88,
   "id": "6554aafe-59e1-4f02-8f52-0ab62ce95f33",
   "metadata": {},
   "outputs": [],
   "source": [
    "# Train classifiers for individual bands and all bands\n",
    "def evaluate_classifiers(X_datasets, classifiers):\n",
    "    results = {}\n",
    "    for dataset_name, (X, y) in X_datasets.items():\n",
    "        results[dataset_name] = {}\n",
    "\n",
    "        for clf_name, clf in classifiers.items():\n",
    "            accuracy = train_evaluate_classifier(clf, X, y)\n",
    "            results[dataset_name][clf_name] = accuracy\n",
    "\n",
    "    return results\n",
    "\n",
    "# Evaluate classifiers\n",
    "X_datasets = {\"All Bands\": (X_all_bands, y_all_bands)}  # Add all bands combined dataset\n",
    "for band, X in X_individual_bands.items():\n",
    "    X_datasets[band] = (X, y_individual_bands[band])  # Add individual bands"
   ]
  },
  {
   "cell_type": "code",
   "execution_count": 105,
   "id": "8518a6e6-4e4f-4bd6-85e7-138ce4717491",
   "metadata": {},
   "outputs": [],
   "source": [
    "# Initialize classifiers\n",
    "classifiers = {\n",
    "        \"LDA\": LinearDiscriminantAnalysis(),\n",
    "        \"SVM\": SVC(kernel='linear', random_state=42),\n",
    "        \"LogisticRegression\": LogisticRegression(penalty='l2', solver='liblinear', random_state=42)\n",
    "    }"
   ]
  },
  {
   "cell_type": "code",
   "execution_count": 106,
   "id": "5ea4cf13-fdc8-4cf5-aa46-3297f0fbc885",
   "metadata": {},
   "outputs": [],
   "source": [
    "# Call the function and evaluate classifiers\n",
    "results = evaluate_classifiers(X_datasets, classifiers)"
   ]
  },
  {
   "cell_type": "code",
   "execution_count": 107,
   "id": "5c4263f5-ced5-4508-a77c-c265e737d44c",
   "metadata": {},
   "outputs": [
    {
     "name": "stdout",
     "output_type": "stream",
     "text": [
      "Classifier Performance (LOOCV Accuracy):\n",
      "All Bands:\n",
      "  LDA: 0.75\n",
      "  SVM: 0.92\n",
      "  LogisticRegression: 0.83\n",
      "Delta:\n",
      "  LDA: 0.62\n",
      "  SVM: 0.67\n",
      "  LogisticRegression: 0.67\n",
      "Theta:\n",
      "  LDA: 0.46\n",
      "  SVM: 0.67\n",
      "  LogisticRegression: 0.79\n",
      "Alpha:\n",
      "  LDA: 0.96\n",
      "  SVM: 0.46\n",
      "  LogisticRegression: 0.54\n",
      "Beta:\n",
      "  LDA: 0.79\n",
      "  SVM: 0.75\n",
      "  LogisticRegression: 0.79\n",
      "Gamma:\n",
      "  LDA: 0.71\n",
      "  SVM: 0.83\n",
      "  LogisticRegression: 0.83\n"
     ]
    }
   ],
   "source": [
    "# Print results\n",
    "print(\"Classifier Performance (LOOCV Accuracy):\")\n",
    "for dataset_name, metrics in results.items():\n",
    "    print(f\"{dataset_name}:\")\n",
    "    for clf_name, accuracy in metrics.items():\n",
    "        print(f\"  {clf_name}: {accuracy:.2f}\")"
   ]
  },
  {
   "cell_type": "code",
   "execution_count": 111,
   "id": "962e4c6b-fe85-48f8-954a-2b0ad67cae62",
   "metadata": {},
   "outputs": [
    {
     "data": {
      "image/png": "[encoded data removed]",
      "text/plain": [
       "<Figure size 1000x600 with 1 Axes>"
      ]
     },
     "metadata": {},
     "output_type": "display_data"
    }
   ],
   "source": [
    "# Plot classifier results\n",
    "\n",
    "# Function to plot classifier results\n",
    "def plot_results(results):\n",
    "    datasets = list(results.keys())\n",
    "    classifiers = list(next(iter(results.values())).keys())\n",
    "    \n",
    "    # Prepare data for plotting\n",
    "    accuracies = np.array([[results[dataset][clf] for clf in classifiers] for dataset in datasets])\n",
    "    bar_width = 0.2  # Width of each bar\n",
    "    x = np.arange(len(datasets))  # Position of datasets on x-axis\n",
    "\n",
    "    # Plot bars for each classifier\n",
    "    plt.figure(figsize=(10, 6))\n",
    "    for i, clf in enumerate(classifiers):\n",
    "        plt.bar(x + i * bar_width, accuracies[:, i], width=bar_width, label=clf)\n",
    "\n",
    "    # Add labels, title, and legend\n",
    "    plt.xlabel(\"Datasets\", fontsize=12)\n",
    "    plt.ylabel(\"LOOCV Accuracy\", fontsize=12)\n",
    "    plt.title(\"Classifier Performance Across Datasets\", fontsize=14)\n",
    "    plt.xticks(x + bar_width, datasets, rotation=45, fontsize=10)\n",
    "    plt.ylim(0, 1.1)  # Accuracy ranges from 0 to 1\n",
    "    plt.legend(title=\"Classifiers\", fontsize=10)\n",
    "    plt.tight_layout()\n",
    "    plt.show()\n",
    "\n",
    "# Call the function to plot results\n",
    "plot_results(results)"
   ]
  },
  {
   "cell_type": "markdown",
   "id": "ee4ae14c-d8bf-4f49-8c80-0d131d1e5d54",
   "metadata": {},
   "source": [
    "### 4. Add Additional Preprocessing Techniques\n",
    "\n",
    "e.g., downsampling, ICA, using different filter types, etc. \n",
    "\n",
    "See its effect on the LOOCV accuracies. "
   ]
  },
  {
   "cell_type": "code",
   "execution_count": 8,
   "id": "5d2ce23d-6a30-44c8-9545-94719d5d51cd",
   "metadata": {},
   "outputs": [],
   "source": [
    "# TODO: Linear preprocessing: downsampling, different bandpass filtering"
   ]
  },
  {
   "cell_type": "code",
   "execution_count": 9,
   "id": "3583cddb-a4be-4e28-a077-1ec12a1028fd",
   "metadata": {},
   "outputs": [],
   "source": [
    "# TODO: Different levels of downsampling"
   ]
  },
  {
   "cell_type": "code",
   "execution_count": 10,
   "id": "e8eb37ec-71b0-411e-982b-e7de9430c5c8",
   "metadata": {},
   "outputs": [],
   "source": [
    "# TODO: Different filter types "
   ]
  },
  {
   "cell_type": "code",
   "execution_count": 11,
   "id": "d7a5b753-c330-49bf-8d78-fb5d30007fc5",
   "metadata": {},
   "outputs": [],
   "source": [
    "# TODO: Different feature types"
   ]
  },
  {
   "cell_type": "code",
   "execution_count": 12,
   "id": "f24e17f2-251f-44e7-8a8a-977c9e2b9d54",
   "metadata": {},
   "outputs": [],
   "source": [
    "# TODO: Different feature sets (linear and nonlinear - MFCC features, etc.)"
   ]
  },
  {
   "cell_type": "code",
   "execution_count": null,
   "id": "d8dbc8f4-eca2-49e9-972e-83493614ac75",
   "metadata": {},
   "outputs": [],
   "source": []
  }
 ],
 "metadata": {
  "kernelspec": {
   "display_name": "Python 3 (ipykernel)",
   "language": "python",
   "name": "python3"
  },
  "language_info": {
   "codemirror_mode": {
    "name": "ipython",
    "version": 3
   },
   "file_extension": ".py",
   "mimetype": "text/x-python",
   "name": "python",
   "nbconvert_exporter": "python",
   "pygments_lexer": "ipython3",
   "version": "3.8.16"
  }
 },
 "nbformat": 4,
 "nbformat_minor": 5
}
